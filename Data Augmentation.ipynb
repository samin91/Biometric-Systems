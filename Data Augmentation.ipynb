{
 "cells": [
  {
   "cell_type": "code",
   "execution_count": 51,
   "metadata": {},
   "outputs": [],
   "source": [
    "import imageio\n",
    "import imgaug as ia\n",
    "from imgaug import augmenters as iaa"
   ]
  },
  {
   "cell_type": "code",
   "execution_count": 52,
   "metadata": {},
   "outputs": [],
   "source": [
    "import pandas as pd\n",
    "import numpy as np \n",
    "import matplotlib.pyplot as plt\n",
    "import os"
   ]
  },
  {
   "cell_type": "code",
   "execution_count": 53,
   "metadata": {},
   "outputs": [],
   "source": [
    "from urllib.request import urlopen,urlretrieve\n",
    "from PIL import Image\n",
    "from tqdm import tqdm_notebook\n",
    "%matplotlib inline\n",
    "from sklearn.utils import shuffle\n",
    "import cv2"
   ]
  },
  {
   "cell_type": "code",
   "execution_count": 54,
   "metadata": {},
   "outputs": [],
   "source": [
    "from keras.models import load_model\n",
    "from sklearn.datasets import load_files   \n",
    "from keras.utils import np_utils\n",
    "from glob import glob\n",
    "from keras import applications\n",
    "from keras.preprocessing import image\n",
    "from keras.applications.imagenet_utils import preprocess_input\n",
    "from keras.preprocessing.image import ImageDataGenerator \n",
    "from keras import optimizers\n",
    "from keras.models import Sequential,Model,load_model\n",
    "from keras.layers import Dense, Dropout, Flatten, Conv2D, MaxPool2D,GlobalAveragePooling2D\n",
    "from keras.callbacks import TensorBoard,ReduceLROnPlateau,ModelCheckpoint"
   ]
  },
  {
   "cell_type": "code",
   "execution_count": 55,
   "metadata": {},
   "outputs": [],
   "source": [
    "seq1 = iaa.Sequential([\n",
    "    iaa.Affine(rotate=(-25, 25)),\n",
    "    iaa.AdditiveGaussianNoise(scale=(10, 60)),\n",
    "    iaa.Crop(percent=(0, 0.2))\n",
    "])\n",
    "\n",
    "seq2 = iaa.Sequential([\n",
    "   iaa.Affine(scale={\"x\": (0.8, 1.2), \"y\": (0.8, 1.2)},\n",
    "        translate_percent={\"x\": (-0.2, 0.2), \"y\": (-0.2, 0.2)},\n",
    "        rotate=(-25, 25),\n",
    "        shear=(-8, 8) ),\n",
    "    iaa.Multiply((0.8, 1.2), per_channel=0.2),\n",
    "    iaa.Fliplr(0.5)   \n",
    "])"
   ]
  },
  {
   "cell_type": "code",
   "execution_count": 56,
   "metadata": {},
   "outputs": [],
   "source": [
    "folders = os.listdir('C:\\\\Users\\\\samin\\\\Desktop\\\\Faces')"
   ]
  },
  {
   "cell_type": "code",
   "execution_count": 57,
   "metadata": {},
   "outputs": [],
   "source": [
    "fc = 1"
   ]
  },
  {
   "cell_type": "code",
   "execution_count": 58,
   "metadata": {},
   "outputs": [],
   "source": [
    "for folder in folders:\n",
    "    X_train = []\n",
    "    images = os.listdir('C:\\\\Users\\\\samin\\\\Desktop\\\\Faces'+'\\\\'+ folder)\n",
    "    for img in images:\n",
    "        x = imageio.imread(os.path.join(r'C:\\Users\\samin\\Desktop\\Faces',folder,img)) \n",
    "        #img = Image.open(os.path.join(r'C:\\Users\\samin\\Desktop\\Faces',folder,img))          \n",
    "        #x = pil2cvGrey(pil_im)\n",
    "        #img = image.load_img(os.path.join(r'C:\\Users\\samin\\Desktop\\Faces',folder,img),target_size=(128, 128))\n",
    "        #x = image.img_to_array(img)#equal to cv2\n",
    "        #x = np.expand_dims(x, axis=0)#to respond to the input dimensions of the model\n",
    "        #x = preprocess_input(x)#normalizing pixel values to caffe style\n",
    "        X_train.append(x) \n",
    "\n",
    "    images_aug1 = seq1.augment_images(X_train)\n",
    "    images_aug2 = seq2.augment_images(X_train)\n",
    "    images_aug = images_aug1 + images_aug2 + X_train\n",
    "\n",
    "    j=1\n",
    "    for img in images_aug:\n",
    "        im = Image.fromarray(img)\n",
    "        path=os.path.join(r'C:\\Users\\samin\\Desktop\\augmented', 'S'+str(fc)+'_'+str(j)+'.jpg')\n",
    "        im.save(path, 'JPEG')\n",
    "        j+=1\n",
    "    fc+=1   "
   ]
  },
  {
   "cell_type": "code",
   "execution_count": null,
   "metadata": {},
   "outputs": [],
   "source": []
  }
 ],
 "metadata": {
  "kernelspec": {
   "display_name": "Python 3",
   "language": "python",
   "name": "python3"
  },
  "language_info": {
   "codemirror_mode": {
    "name": "ipython",
    "version": 3
   },
   "file_extension": ".py",
   "mimetype": "text/x-python",
   "name": "python",
   "nbconvert_exporter": "python",
   "pygments_lexer": "ipython3",
   "version": "3.7.3"
  }
 },
 "nbformat": 4,
 "nbformat_minor": 2
}
