{
 "cells": [
  {
   "cell_type": "code",
   "execution_count": 2,
   "metadata": {
    "colab": {
     "base_uri": "https://localhost:8080/",
     "height": 34
    },
    "colab_type": "code",
    "id": "-VoXwyAOHIby",
    "outputId": "31954a77-933c-4650-e188-b3fbac1f5f4e"
   },
   "outputs": [
    {
     "name": "stderr",
     "output_type": "stream",
     "text": [
      "Using TensorFlow backend.\n"
     ]
    }
   ],
   "source": [
    "import pandas as pd\n",
    "import numpy as np \n",
    "import matplotlib.pyplot as plt\n",
    "import os\n",
    "from urllib.request import urlopen,urlretrieve\n",
    "from PIL import Image\n",
    "from tqdm import tqdm_notebook\n",
    "%matplotlib inline\n",
    "from sklearn.utils import shuffle\n",
    "import cv2\n",
    "from keras.models import load_model\n",
    "from sklearn.datasets import load_files   \n",
    "from keras.utils import np_utils\n",
    "from glob import glob\n",
    "from keras import applications\n",
    "from keras.preprocessing import image\n",
    "from keras.applications.imagenet_utils import preprocess_input\n",
    "from keras.preprocessing.image import ImageDataGenerator \n",
    "from keras import optimizers\n",
    "from keras.models import Sequential,Model,load_model\n",
    "from keras.layers import Dense, Dropout, Flatten, Conv2D, MaxPool2D,GlobalAveragePooling2D\n",
    "from keras.callbacks import TensorBoard,ReduceLROnPlateau,ModelCheckpoint"
   ]
  },
  {
   "cell_type": "markdown",
   "metadata": {
    "colab_type": "text",
    "id": "2cbaOw1R4MbW"
   },
   "source": [
    "#  Face Verification "
   ]
  },
  {
   "cell_type": "markdown",
   "metadata": {
    "colab_type": "text",
    "id": "Qo2KyEIu4aoG"
   },
   "source": [
    "## Uploading Face Dataset\n",
    "\n"
   ]
  },
  {
   "cell_type": "code",
   "execution_count": 0,
   "metadata": {
    "colab": {},
    "colab_type": "code",
    "id": "NUMJPvRUJkVU"
   },
   "outputs": [],
   "source": [
    "#open files from your local file system\n",
    "from google.colab import files\n",
    "\n",
    "uploaded_train = files.upload()\n",
    "\n",
    "for fn in uploaded_train.keys():\n",
    "  print('User uploaded file \"{name}\" with length {length} bytes'.format(\n",
    "      name=fn, length=len(uploaded_train[fn])))\n",
    "  "
   ]
  },
  {
   "cell_type": "markdown",
   "metadata": {
    "colab_type": "text",
    "id": "K6TqTFDnw2Qn"
   },
   "source": [
    "## Preparing inputs for the train_test_split function"
   ]
  },
  {
   "cell_type": "code",
   "execution_count": 0,
   "metadata": {
    "colab": {},
    "colab_type": "code",
    "id": "biF-Op7X4Nh5"
   },
   "outputs": [],
   "source": [
    "face_X = []\n",
    "for key, value in uploaded_train.items():\n",
    "          img_path = key\n",
    "          img = image.load_img(img_path, target_size=(128, 128))#loads as image in the PIL format\n",
    "          x = image.img_to_array(img)#equal to cv2\n",
    "          x = np.expand_dims(x, axis=0)#to respond to the input dimensions of the model\n",
    "          x = preprocess_input(x)#normalizing pixel values to caffe style\n",
    "          face_X.append(x)"
   ]
  },
  {
   "cell_type": "code",
   "execution_count": 6,
   "metadata": {
    "colab": {
     "base_uri": "https://localhost:8080/",
     "height": 34
    },
    "colab_type": "code",
    "id": "H9VcyYpC6ram",
    "outputId": "11ed1ba9-ce2d-4dca-dbac-2fcd22e05e1a"
   },
   "outputs": [
    {
     "data": {
      "text/plain": [
       "(960, 128, 128, 3)"
      ]
     },
     "execution_count": 6,
     "metadata": {
      "tags": []
     },
     "output_type": "execute_result"
    }
   ],
   "source": [
    "face_X = np.array(face_X)\n",
    "face_X = face_X.reshape(face_X.shape[0],128, 128, 3)\n",
    "face_X.shape"
   ]
  },
  {
   "cell_type": "markdown",
   "metadata": {
    "colab_type": "text",
    "id": "h9CcR-cL65sv"
   },
   "source": [
    " ### labels"
   ]
  },
  {
   "cell_type": "code",
   "execution_count": 0,
   "metadata": {
    "colab": {},
    "colab_type": "code",
    "id": "GpNmSufm6-25"
   },
   "outputs": [],
   "source": [
    "keys=[]\n",
    "for key, value in uploaded_train.items():\n",
    "  keys.append(key[1:3])\n",
    "keys = [key.replace('_', '') for key in keys]\n",
    "face_Y = np.array([int(i) for i in keys])"
   ]
  },
  {
   "cell_type": "code",
   "execution_count": 9,
   "metadata": {
    "colab": {
     "base_uri": "https://localhost:8080/",
     "height": 34
    },
    "colab_type": "code",
    "id": "fRD_dxi87O9T",
    "outputId": "312a8ee4-ecf8-426d-f40a-4d2c6c9809a6"
   },
   "outputs": [
    {
     "data": {
      "text/plain": [
       "960"
      ]
     },
     "execution_count": 9,
     "metadata": {
      "tags": []
     },
     "output_type": "execute_result"
    }
   ],
   "source": [
    "len(face_Y)"
   ]
  },
  {
   "cell_type": "markdown",
   "metadata": {
    "colab_type": "text",
    "id": "tTRoB1hvvXYs"
   },
   "source": [
    "# train/test split"
   ]
  },
  {
   "cell_type": "code",
   "execution_count": 0,
   "metadata": {
    "colab": {},
    "colab_type": "code",
    "id": "96omP4B-voAI"
   },
   "outputs": [],
   "source": [
    "from sklearn.model_selection import train_test_split"
   ]
  },
  {
   "cell_type": "code",
   "execution_count": 0,
   "metadata": {
    "colab": {},
    "colab_type": "code",
    "id": "03n13O7CvaTw"
   },
   "outputs": [],
   "source": [
    "X_train_face, X_test_face, y_train_face, y_test_face = train_test_split(face_X, face_Y, test_size=0.33, random_state=42)"
   ]
  },
  {
   "cell_type": "code",
   "execution_count": 12,
   "metadata": {
    "colab": {
     "base_uri": "https://localhost:8080/",
     "height": 34
    },
    "colab_type": "code",
    "id": "NprfGnGHx6m2",
    "outputId": "2912eb3e-f5a1-4764-cf27-2739f7b77ae3"
   },
   "outputs": [
    {
     "data": {
      "text/plain": [
       "317"
      ]
     },
     "execution_count": 12,
     "metadata": {
      "tags": []
     },
     "output_type": "execute_result"
    }
   ],
   "source": [
    "len(y_test_face)"
   ]
  },
  {
   "cell_type": "markdown",
   "metadata": {
    "colab_type": "text",
    "id": "T2V1J9XNxdnI"
   },
   "source": [
    "## one-hot-encoding the labels "
   ]
  },
  {
   "cell_type": "code",
   "execution_count": 0,
   "metadata": {
    "colab": {},
    "colab_type": "code",
    "id": "qMLdHnb27gUh"
   },
   "outputs": [],
   "source": [
    "def convert_to_one_hot(Y, C):\n",
    "    Y = np.eye(C)[Y.reshape(-1)].T\n",
    "    return Y\n",
    "  "
   ]
  },
  {
   "cell_type": "code",
   "execution_count": 0,
   "metadata": {
    "colab": {},
    "colab_type": "code",
    "id": "fog8-Tjt6gjh"
   },
   "outputs": [],
   "source": [
    "Y_train_face = convert_to_one_hot(y_train_face,32).T\n",
    "Y_test_face = convert_to_one_hot(y_test_face,32).T"
   ]
  },
  {
   "cell_type": "code",
   "execution_count": 16,
   "metadata": {
    "colab": {
     "base_uri": "https://localhost:8080/",
     "height": 123
    },
    "colab_type": "code",
    "id": "pUVxiItg8BkH",
    "outputId": "799c84f3-4088-466e-b36a-30a11891370b"
   },
   "outputs": [
    {
     "name": "stdout",
     "output_type": "stream",
     "text": [
      "number of training examples = 643\n",
      "number of test examples = 317\n",
      "X_train shape: (643, 128, 128, 3)\n",
      "Y_train shape: (643, 32)\n",
      "X_test shape: (317, 128, 128, 3)\n",
      "Y_test shape: (317, 32)\n"
     ]
    }
   ],
   "source": [
    "print (\"number of training examples = \" + str(X_train_face.shape[0]))\n",
    "print (\"number of test examples = \" + str(X_test_face.shape[0]))\n",
    "print (\"X_train shape: \" + str(X_train_face.shape))\n",
    "print (\"Y_train shape: \" + str(Y_train_face.shape))\n",
    "print (\"X_test shape: \" + str(X_test_face.shape))\n",
    "print (\"Y_test shape: \" + str(Y_test_face.shape))"
   ]
  },
  {
   "cell_type": "markdown",
   "metadata": {
    "colab_type": "text",
    "id": "v01zC-uC8JAN"
   },
   "source": [
    "# Model"
   ]
  },
  {
   "cell_type": "markdown",
   "metadata": {
    "colab_type": "text",
    "id": "iq9kBF3B4yvA"
   },
   "source": [
    "### Creating the base_model using TRANSFER LEARNING\n"
   ]
  },
  {
   "cell_type": "code",
   "execution_count": 0,
   "metadata": {
    "colab": {},
    "colab_type": "code",
    "id": "D4iQpZUUHIcB"
   },
   "outputs": [],
   "source": [
    "img_height,img_width = 128,128\n",
    "num_classes = 32\n",
    "#imagenet weights are being loaded\n",
    "base_model = applications.resnet50.ResNet50(weights= 'imagenet', include_top=False, input_shape= (img_height,img_width,3))"
   ]
  },
  {
   "cell_type": "code",
   "execution_count": 0,
   "metadata": {
    "colab": {},
    "colab_type": "code",
    "id": "lSfHYeiH-SeY"
   },
   "outputs": [],
   "source": [
    "#freezing the NN layers\n",
    "#for layer in base_model.layers:\n",
    "#\tlayer.trainable = False"
   ]
  },
  {
   "cell_type": "code",
   "execution_count": 0,
   "metadata": {
    "colab": {},
    "colab_type": "code",
    "id": "DpaqgUjOHIcF"
   },
   "outputs": [],
   "source": [
    "x = base_model.output\n",
    "x = GlobalAveragePooling2D()(x)\n",
    "x = Dropout(0.7)(x)\n",
    "predictions = Dense(num_classes, activation= 'softmax')(x)\n",
    "model = Model(inputs = base_model.input, outputs = predictions)"
   ]
  },
  {
   "cell_type": "code",
   "execution_count": 0,
   "metadata": {
    "colab": {},
    "colab_type": "code",
    "id": "bunolOBPHIcI"
   },
   "outputs": [],
   "source": [
    "from keras.optimizers import SGD, Adam\n",
    "adam = Adam(lr=0.0001)\n",
    "model.compile(optimizer= adam, loss='categorical_crossentropy', metrics=['accuracy'])"
   ]
  },
  {
   "cell_type": "markdown",
   "metadata": {
    "colab_type": "text",
    "id": "JX6M13nY4__7"
   },
   "source": [
    "### Training the model "
   ]
  },
  {
   "cell_type": "code",
   "execution_count": 20,
   "metadata": {
    "colab": {
     "base_uri": "https://localhost:8080/",
     "height": 1000
    },
    "colab_type": "code",
    "id": "tgYB5t5sHIcK",
    "outputId": "bec6176d-0dba-4cbc-ffb9-68391abdeed7"
   },
   "outputs": [
    {
     "name": "stderr",
     "output_type": "stream",
     "text": [
      "W0701 12:43:34.851056 140685096044416 deprecation.py:323] From /usr/local/lib/python3.6/dist-packages/tensorflow/python/ops/math_grad.py:1250: add_dispatch_support.<locals>.wrapper (from tensorflow.python.ops.array_ops) is deprecated and will be removed in a future version.\n",
      "Instructions for updating:\n",
      "Use tf.where in 2.0, which has the same broadcast rule as np.where\n"
     ]
    },
    {
     "name": "stdout",
     "output_type": "stream",
     "text": [
      "Epoch 1/50\n",
      "643/643 [==============================] - 17s 26ms/step - loss: 3.6585 - acc: 0.1540\n",
      "Epoch 2/50\n",
      "643/643 [==============================] - 3s 5ms/step - loss: 1.4097 - acc: 0.6081\n",
      "Epoch 3/50\n",
      "643/643 [==============================] - 3s 5ms/step - loss: 0.7982 - acc: 0.7994\n",
      "Epoch 4/50\n",
      "643/643 [==============================] - 3s 5ms/step - loss: 0.3964 - acc: 0.9207\n",
      "Epoch 5/50\n",
      "643/643 [==============================] - 3s 5ms/step - loss: 0.2384 - acc: 0.9580\n",
      "Epoch 6/50\n",
      "643/643 [==============================] - 3s 5ms/step - loss: 0.1357 - acc: 0.9736\n",
      "Epoch 7/50\n",
      "643/643 [==============================] - 3s 5ms/step - loss: 0.0828 - acc: 0.9860\n",
      "Epoch 8/50\n",
      "643/643 [==============================] - 3s 5ms/step - loss: 0.0619 - acc: 0.9953\n",
      "Epoch 9/50\n",
      "643/643 [==============================] - 3s 5ms/step - loss: 0.0531 - acc: 0.9984\n",
      "Epoch 10/50\n",
      "643/643 [==============================] - 3s 5ms/step - loss: 0.0460 - acc: 0.9953\n",
      "Epoch 11/50\n",
      "643/643 [==============================] - 3s 5ms/step - loss: 0.0406 - acc: 0.9907\n",
      "Epoch 12/50\n",
      "643/643 [==============================] - 3s 5ms/step - loss: 0.0505 - acc: 0.9938\n",
      "Epoch 13/50\n",
      "643/643 [==============================] - 3s 5ms/step - loss: 0.0327 - acc: 1.0000\n",
      "Epoch 14/50\n",
      "643/643 [==============================] - 3s 5ms/step - loss: 0.0278 - acc: 0.9984\n",
      "Epoch 15/50\n",
      "643/643 [==============================] - 3s 5ms/step - loss: 0.0189 - acc: 0.9984\n",
      "Epoch 16/50\n",
      "643/643 [==============================] - 3s 5ms/step - loss: 0.0213 - acc: 0.9984\n",
      "Epoch 17/50\n",
      "643/643 [==============================] - 3s 5ms/step - loss: 0.0205 - acc: 0.9984\n",
      "Epoch 18/50\n",
      "643/643 [==============================] - 3s 5ms/step - loss: 0.0204 - acc: 0.9984\n",
      "Epoch 19/50\n",
      "643/643 [==============================] - 3s 5ms/step - loss: 0.0170 - acc: 1.0000\n",
      "Epoch 20/50\n",
      "643/643 [==============================] - 3s 5ms/step - loss: 0.0158 - acc: 0.9984\n",
      "Epoch 21/50\n",
      "643/643 [==============================] - 3s 5ms/step - loss: 0.0105 - acc: 1.0000\n",
      "Epoch 22/50\n",
      "643/643 [==============================] - 3s 5ms/step - loss: 0.0180 - acc: 0.9984\n",
      "Epoch 23/50\n",
      "643/643 [==============================] - 3s 5ms/step - loss: 0.0247 - acc: 0.9969\n",
      "Epoch 24/50\n",
      "643/643 [==============================] - 3s 5ms/step - loss: 0.0245 - acc: 0.9969\n",
      "Epoch 25/50\n",
      "643/643 [==============================] - 3s 5ms/step - loss: 0.0121 - acc: 0.9984\n",
      "Epoch 26/50\n",
      "643/643 [==============================] - 3s 5ms/step - loss: 0.0139 - acc: 0.9969\n",
      "Epoch 27/50\n",
      "643/643 [==============================] - 3s 5ms/step - loss: 0.0318 - acc: 0.9953\n",
      "Epoch 28/50\n",
      "643/643 [==============================] - 3s 5ms/step - loss: 0.0240 - acc: 0.9969\n",
      "Epoch 29/50\n",
      "643/643 [==============================] - 3s 5ms/step - loss: 0.0367 - acc: 0.9938\n",
      "Epoch 30/50\n",
      "643/643 [==============================] - 3s 5ms/step - loss: 0.0096 - acc: 0.9984\n",
      "Epoch 31/50\n",
      "643/643 [==============================] - 3s 5ms/step - loss: 0.0152 - acc: 0.9969\n",
      "Epoch 32/50\n",
      "643/643 [==============================] - 3s 5ms/step - loss: 0.0131 - acc: 0.9984\n",
      "Epoch 33/50\n",
      "643/643 [==============================] - 3s 5ms/step - loss: 0.0127 - acc: 1.0000\n",
      "Epoch 34/50\n",
      "643/643 [==============================] - 3s 5ms/step - loss: 0.0154 - acc: 0.9969\n",
      "Epoch 35/50\n",
      "643/643 [==============================] - 3s 5ms/step - loss: 0.0190 - acc: 0.9969\n",
      "Epoch 36/50\n",
      "643/643 [==============================] - 3s 5ms/step - loss: 0.0123 - acc: 1.0000\n",
      "Epoch 37/50\n",
      "643/643 [==============================] - 3s 5ms/step - loss: 0.0115 - acc: 0.9984\n",
      "Epoch 38/50\n",
      "643/643 [==============================] - 3s 5ms/step - loss: 0.0186 - acc: 0.9938\n",
      "Epoch 39/50\n",
      "643/643 [==============================] - 3s 5ms/step - loss: 0.0163 - acc: 0.9969\n",
      "Epoch 40/50\n",
      "643/643 [==============================] - 3s 5ms/step - loss: 0.0202 - acc: 0.9953\n",
      "Epoch 41/50\n",
      "643/643 [==============================] - 3s 5ms/step - loss: 0.0339 - acc: 0.9938\n",
      "Epoch 42/50\n",
      "643/643 [==============================] - 3s 5ms/step - loss: 0.0271 - acc: 0.9953\n",
      "Epoch 43/50\n",
      "643/643 [==============================] - 3s 5ms/step - loss: 0.0144 - acc: 0.9969\n",
      "Epoch 44/50\n",
      "643/643 [==============================] - 3s 5ms/step - loss: 0.0089 - acc: 0.9984\n",
      "Epoch 45/50\n",
      "643/643 [==============================] - 3s 5ms/step - loss: 0.0145 - acc: 0.9969\n",
      "Epoch 46/50\n",
      "643/643 [==============================] - 3s 5ms/step - loss: 0.0190 - acc: 0.9922\n",
      "Epoch 47/50\n",
      "643/643 [==============================] - 3s 5ms/step - loss: 0.0256 - acc: 0.9938\n",
      "Epoch 48/50\n",
      "643/643 [==============================] - 3s 5ms/step - loss: 0.0218 - acc: 0.9938\n",
      "Epoch 49/50\n",
      "643/643 [==============================] - 3s 5ms/step - loss: 0.0243 - acc: 0.9938\n",
      "Epoch 50/50\n",
      "643/643 [==============================] - 3s 5ms/step - loss: 0.0264 - acc: 0.9922\n"
     ]
    },
    {
     "data": {
      "text/plain": [
       "<keras.callbacks.History at 0x7ff30f45d978>"
      ]
     },
     "execution_count": 20,
     "metadata": {
      "tags": []
     },
     "output_type": "execute_result"
    }
   ],
   "source": [
    "model.fit(X_train_face, Y_train_face, epochs = 50, batch_size = 32)"
   ]
  },
  {
   "cell_type": "markdown",
   "metadata": {
    "colab_type": "text",
    "id": "aG1_nbWz5PcQ"
   },
   "source": [
    "### Evaluating the model on the test set - ACCURACY\n"
   ]
  },
  {
   "cell_type": "code",
   "execution_count": 21,
   "metadata": {
    "colab": {
     "base_uri": "https://localhost:8080/",
     "height": 70
    },
    "colab_type": "code",
    "id": "lqYIWJ79HIcO",
    "outputId": "63ded6bc-69e3-4929-ce6a-8aba380abc8b"
   },
   "outputs": [
    {
     "name": "stdout",
     "output_type": "stream",
     "text": [
      "317/317 [==============================] - 2s 7ms/step\n",
      "Loss = 0.07537488333810391\n",
      "Test Accuracy = 0.9810725535128019\n"
     ]
    }
   ],
   "source": [
    "preds = model.evaluate(X_test_face, Y_test_face)\n",
    "print (\"Loss = \" + str(preds[0]))\n",
    "print (\"Test Accuracy = \" + str(preds[1]))"
   ]
  },
  {
   "cell_type": "code",
   "execution_count": 0,
   "metadata": {
    "colab": {},
    "colab_type": "code",
    "id": "5TOVyYuF-Jcm"
   },
   "outputs": [],
   "source": [
    "# mp=model predict\n",
    "#np.amax(mp)  this is the maximum probability returned and then we find the label of the class which is the value returned by mp.argmax()\n",
    "#mp.argmax()   returns the position of the largest value in a numpy array|"
   ]
  },
  {
   "cell_type": "markdown",
   "metadata": {
    "colab_type": "text",
    "id": "vLydZkz_5VWx"
   },
   "source": [
    "# Evaluation \n"
   ]
  },
  {
   "cell_type": "markdown",
   "metadata": {
    "colab_type": "text",
    "id": "G_9AwmgC5unD"
   },
   "source": [
    "### Different thresholds"
   ]
  },
  {
   "cell_type": "code",
   "execution_count": 23,
   "metadata": {
    "colab": {
     "base_uri": "https://localhost:8080/",
     "height": 34
    },
    "colab_type": "code",
    "id": "Yw5f17cS1xJU",
    "outputId": "bc2dccda-5560-40b3-e9b2-470fcb50030e"
   },
   "outputs": [
    {
     "data": {
      "text/plain": [
       "201"
      ]
     },
     "execution_count": 23,
     "metadata": {
      "tags": []
     },
     "output_type": "execute_result"
    }
   ],
   "source": [
    "threshold = np.arange(0, 1.005, 0.005)\n",
    "len(threshold)"
   ]
  },
  {
   "cell_type": "markdown",
   "metadata": {
    "colab_type": "text",
    "id": "WCfOGqtj5xig"
   },
   "source": [
    "### False Rejection Rate"
   ]
  },
  {
   "cell_type": "code",
   "execution_count": 0,
   "metadata": {
    "colab": {},
    "colab_type": "code",
    "id": "VslSQYyEKozX"
   },
   "outputs": [],
   "source": [
    "TP_face = 0\n",
    "FN_face = 0 #False Negative(False Rejection)/typeI error\n",
    "FRR_face = [] # a list of false rejection rate values for 201 different threshold between 0 and 1\n",
    "for T in threshold: \n",
    "  for i in range(0,317):\n",
    "            x = np.expand_dims(X_test_face[i], axis=0)#to respond to the input dimensions of the model\n",
    "            label = y_test_face[i]\n",
    "\n",
    "            p = model.predict(x)\n",
    "            if np.amax(p)>=T and label == p.argmax(): # Top matched value's label is equal to the probe's label and the probabiliy surpasses the T\n",
    "              TP_face+=1\n",
    "\n",
    "            if np.amax(p)<T and  label == p.argmax(): # Top matched value's label is the same as the probe's class but this value is lower than the threshold set so, the genuine probe won't be allowed in the system and this is a false reject\n",
    "              FN_face+=1\n",
    "  FRR_face.append(FN_face/(FN_face+TP_face))    \n",
    "  TP_face=0\n",
    "  FN_face=0\n"
   ]
  },
  {
   "cell_type": "code",
   "execution_count": 26,
   "metadata": {
    "colab": {
     "base_uri": "https://localhost:8080/",
     "height": 34
    },
    "colab_type": "code",
    "id": "dhNW7jBvoRe-",
    "outputId": "9c9060ec-f12c-4440-b658-f50b145de833"
   },
   "outputs": [
    {
     "data": {
      "text/plain": [
       "201"
      ]
     },
     "execution_count": 26,
     "metadata": {
      "tags": []
     },
     "output_type": "execute_result"
    }
   ],
   "source": [
    "len(FRR_face)"
   ]
  },
  {
   "cell_type": "markdown",
   "metadata": {
    "colab_type": "text",
    "id": "tB5VZjdT54Vx"
   },
   "source": [
    "### False Acceptance Rate"
   ]
  },
  {
   "cell_type": "code",
   "execution_count": 0,
   "metadata": {
    "colab": {},
    "colab_type": "code",
    "id": "PRPmoyHi_pL6"
   },
   "outputs": [],
   "source": [
    "#open files from your local file system\n",
    "from google.colab import files\n",
    "\n",
    "uploaded_imposter_face = files.upload()\n",
    "\n",
    "for fn in uploaded_imposter_face.keys():\n",
    "  print('User uploaded file \"{name}\" with length {length} bytes'.format(\n",
    "      name=fn, length=len(uploaded_imposter_face[fn])))"
   ]
  },
  {
   "cell_type": "code",
   "execution_count": 31,
   "metadata": {
    "colab": {
     "base_uri": "https://localhost:8080/",
     "height": 34
    },
    "colab_type": "code",
    "id": "DUi7IAnUQRjU",
    "outputId": "6892acda-0f6d-4268-c9dc-3b12b55756c1"
   },
   "outputs": [
    {
     "data": {
      "text/plain": [
       "320"
      ]
     },
     "execution_count": 31,
     "metadata": {
      "tags": []
     },
     "output_type": "execute_result"
    }
   ],
   "source": [
    "len(uploaded_imposter_face)"
   ]
  },
  {
   "cell_type": "code",
   "execution_count": 0,
   "metadata": {
    "colab": {},
    "colab_type": "code",
    "id": "_6hubKMHPIr4"
   },
   "outputs": [],
   "source": [
    "imposter_keys=[]\n",
    "for key in uploaded_imposter_face.keys():\n",
    "  imposter_keys.append(key[1:3])"
   ]
  },
  {
   "cell_type": "code",
   "execution_count": 0,
   "metadata": {
    "colab": {},
    "colab_type": "code",
    "id": "hnNfFQpm7tHH"
   },
   "outputs": [],
   "source": [
    "\n",
    "TN_face = 0\n",
    "FP_face = 0 #False Positive(False Acceptance)/typeII error\n",
    "predicts = []\n",
    "FAR_face = []\n",
    "for T in threshold:\n",
    "  key_index=0\n",
    "  for key, value in uploaded_imposter_face.items():\n",
    "            img_path = key\n",
    "            img = image.load_img(img_path, target_size=(128, 128))#loads as image in the PIL format\n",
    "            x = image.img_to_array(img)#equal to cv2\n",
    "            x = np.expand_dims(x, axis=0)#to respond to the input dimensions of the model\n",
    "            x = preprocess_input(x)#normalizing pixel values to caffe style\n",
    "            label = int(imposter_keys[key_index])\n",
    "            key_index+=1\n",
    "\n",
    "            p = model.predict(x)\n",
    "            predicts.append(p)\n",
    "            if np.amax(p)>=T and label == p.argmax(): # An imposter pretending to be one of genuine probes, top matches and this probabbility surpasses the T value\n",
    "              FP_face+=1\n",
    "\n",
    "            if np.amax(p)<T: # An imposter pretening to be a genuine probe, matches the highest but this probability does not surpass the T value\n",
    "              TN_face+=1\n",
    "\n",
    "            if np.amax(p)>T and label != p.argmax():\n",
    "              TN_face+=1\n",
    "\n",
    "            #if np.amax(p) >=T and label != p.argmax(): # Top matched value's label is not equal to the label (wrong match) and this probability surpasses the T value so we get a False Acceptance error\n",
    "            #  FP+=1\n",
    "\n",
    "            #L.append([p, label, (np.amax(p), p.argmax())])\n",
    "\n",
    "  FAR_face.append(FP_face/(TN_face+FP_face))    \n",
    "  FP_face=0\n",
    "  TN_face=0      "
   ]
  },
  {
   "cell_type": "markdown",
   "metadata": {
    "colab_type": "text",
    "id": "3a1TWTGpnq9j"
   },
   "source": [
    "## Plotting\n"
   ]
  },
  {
   "cell_type": "code",
   "execution_count": 0,
   "metadata": {
    "colab": {},
    "colab_type": "code",
    "id": "ogMzDQRfnqJu"
   },
   "outputs": [],
   "source": [
    "t=threshold.tolist()"
   ]
  },
  {
   "cell_type": "code",
   "execution_count": 29,
   "metadata": {
    "colab": {
     "base_uri": "https://localhost:8080/",
     "height": 294
    },
    "colab_type": "code",
    "id": "1M8xZG8inzfp",
    "outputId": "fab7b8b6-23ad-42eb-d1ea-4ad62d51cc91"
   },
   "outputs": [
    {
     "data": {
      "image/png": "[encoded data removed]",
      "text/plain": [
       "<Figure size 432x288 with 1 Axes>"
      ]
     },
     "metadata": {
      "tags": []
     },
     "output_type": "display_data"
    }
   ],
   "source": [
    "# importing the required module \n",
    "import matplotlib.pyplot as plt \n",
    "\n",
    "# x axis values \n",
    "# FRR \n",
    "# corresponding y axis values \n",
    "# t\n",
    "\n",
    "# plotting the points \n",
    "plt.plot(t, FRR_face) \n",
    "\n",
    "# naming the x axis \n",
    "plt.xlabel('threshold') \n",
    "# naming the y axis \n",
    "plt.ylabel('Error_rate') \n",
    "\n",
    "# giving a title to my graph \n",
    "plt.title('FRR') \n",
    "\n",
    "# function to show the plot \n",
    "plt.show() \n"
   ]
  },
  {
   "cell_type": "code",
   "execution_count": 34,
   "metadata": {
    "colab": {
     "base_uri": "https://localhost:8080/",
     "height": 294
    },
    "colab_type": "code",
    "id": "9enZtzff9bo2",
    "outputId": "a730c797-7f59-41b8-8952-e0e1d6b1e2b5"
   },
   "outputs": [
    {
     "data": {
      "image/png": "[encoded data removed]",
      "text/plain": [
       "<Figure size 432x288 with 1 Axes>"
      ]
     },
     "metadata": {
      "tags": []
     },
     "output_type": "display_data"
    }
   ],
   "source": [
    "# plotting the points \n",
    "plt.plot(t, FAR_face) \n",
    "\n",
    "# naming the x axis \n",
    "plt.xlabel('threshold') \n",
    "# naming the y axis \n",
    "plt.ylabel('FAR') \n",
    "\n",
    "# giving a title to my graph \n",
    "plt.title('FAR') \n",
    "\n",
    "# function to show the plot \n",
    "plt.show() "
   ]
  },
  {
   "cell_type": "code",
   "execution_count": 36,
   "metadata": {
    "colab": {
     "base_uri": "https://localhost:8080/",
     "height": 294
    },
    "colab_type": "code",
    "id": "H7gyY6nfoXfI",
    "outputId": "3a7b24a7-5fc2-4464-8938-7c3383d8219c"
   },
   "outputs": [
    {
     "data": {
      "image/png": "[encoded data removed]",
      "text/plain": [
       "<Figure size 432x288 with 1 Axes>"
      ]
     },
     "metadata": {
      "tags": []
     },
     "output_type": "display_data"
    }
   ],
   "source": [
    "#plt.axis([0, 1, 0, 0.03])\n",
    "# line 1 points \n",
    "# plotting the line 1 points \n",
    "plt.plot(t, FRR_face, label = \"FRR\") \n",
    "\n",
    "# line 2 points \n",
    "# plotting the line 2 points \n",
    "plt.plot(t, FAR_face, label = \"FAR\") \n",
    "\n",
    "# naming the x axis \n",
    "plt.xlabel('threshold') \n",
    "# naming the y axis \n",
    "plt.ylabel('Error_Rate') \n",
    "# giving a title to my graph \n",
    "plt.title('FAR and FRR with different thresholds!') \n",
    "\n",
    "\n",
    "# show a legend on the plot \n",
    "plt.legend() \n",
    "\n",
    "# function to show the plot \n",
    "plt.show() "
   ]
  },
  {
   "cell_type": "markdown",
   "metadata": {
    "colab_type": "text",
    "id": "Tjg9Hu8Z6IKF"
   },
   "source": [
    "# Eye1 Verification"
   ]
  },
  {
   "cell_type": "markdown",
   "metadata": {
    "colab_type": "text",
    "id": "Pjb_b_R1J_xk"
   },
   "source": [
    "## X_train, X_test"
   ]
  },
  {
   "cell_type": "code",
   "execution_count": 0,
   "metadata": {
    "colab": {},
    "colab_type": "code",
    "id": "lRJt9RTW6HQ4"
   },
   "outputs": [],
   "source": [
    "#open files from your local file system\n",
    "from google.colab import files\n",
    "\n",
    "uploaded_eye1_train = files.upload()\n",
    "\n",
    "for fn in uploaded_eye_train.keys():\n",
    "  print('User uploaded file \"{name}\" with length {length} bytes'.format(\n",
    "      name=fn, length=len(uploaded_eye_train[fn])))"
   ]
  },
  {
   "cell_type": "code",
   "execution_count": 0,
   "metadata": {
    "colab": {},
    "colab_type": "code",
    "id": "b4D_pIL99YBX"
   },
   "outputs": [],
   "source": [
    "eye1_X = []\n",
    "for key, value in uploaded_eye1_train.items():\n",
    "          img_path = key\n",
    "          img = image.load_img(img_path, target_size=(128, 128))#loads as image in the PIL format\n",
    "          x = image.img_to_array(img)#equal to cv2\n",
    "          x = np.expand_dims(x, axis=0)#to respond to the input dimensions of the model\n",
    "          x = preprocess_input(x)#normalizing pixel values to caffe style\n",
    "          eye1_X.append(x)"
   ]
  },
  {
   "cell_type": "code",
   "execution_count": 43,
   "metadata": {
    "colab": {
     "base_uri": "https://localhost:8080/",
     "height": 34
    },
    "colab_type": "code",
    "id": "T-k_8XOn9j5j",
    "outputId": "8753a59a-813f-4cec-9244-a1b1abb38cbc"
   },
   "outputs": [
    {
     "data": {
      "text/plain": [
       "(957, 128, 128, 3)"
      ]
     },
     "execution_count": 43,
     "metadata": {
      "tags": []
     },
     "output_type": "execute_result"
    }
   ],
   "source": [
    "eye1_X = np.array(eye1_X)\n",
    "eye1_X = eye1_X.reshape(eye1_X.shape[0],128, 128, 3)\n",
    "eye1_X.shape"
   ]
  },
  {
   "cell_type": "markdown",
   "metadata": {
    "colab_type": "text",
    "id": "lK3kKGM2KFjb"
   },
   "source": [
    "## Y_Train, Y_test"
   ]
  },
  {
   "cell_type": "code",
   "execution_count": 0,
   "metadata": {
    "colab": {},
    "colab_type": "code",
    "id": "EqEt9xZFEcba"
   },
   "outputs": [],
   "source": [
    "keys=[]\n",
    "for key, value in uploaded_eye1_train.items():\n",
    "  keys.append(key[1:3])\n",
    "keys = [key.replace('_', '') for key in keys]\n",
    "eye1_Y= np.array([int(i) for i in keys])"
   ]
  },
  {
   "cell_type": "markdown",
   "metadata": {
    "colab_type": "text",
    "id": "xFYDEEOEWddi"
   },
   "source": [
    "# train/test split"
   ]
  },
  {
   "cell_type": "code",
   "execution_count": 0,
   "metadata": {
    "colab": {},
    "colab_type": "code",
    "id": "dZiegWKxWckE"
   },
   "outputs": [],
   "source": [
    "X_train_eye1, X_test_eye1, y_train_eye1, y_test_eye1 = train_test_split(eye1_X, eye1_Y, test_size=0.33, random_state=42)"
   ]
  },
  {
   "cell_type": "markdown",
   "metadata": {
    "colab_type": "text",
    "id": "pW5YMEDiafQa"
   },
   "source": [
    "## one-hot encode the labels to feed the keras model"
   ]
  },
  {
   "cell_type": "code",
   "execution_count": 0,
   "metadata": {
    "colab": {},
    "colab_type": "code",
    "id": "2ZT7OiXFEn5P"
   },
   "outputs": [],
   "source": [
    "Y_train_eye1 = convert_to_one_hot(y_train_eye1,32).T\n",
    "Y_test_eye1 = convert_to_one_hot(y_test_eye1,32).T"
   ]
  },
  {
   "cell_type": "markdown",
   "metadata": {
    "colab_type": "text",
    "id": "3Cv0_92_KKNE"
   },
   "source": [
    "## Model\n"
   ]
  },
  {
   "cell_type": "markdown",
   "metadata": {
    "colab_type": "text",
    "id": "Au8TjC-oKWAI"
   },
   "source": [
    "### Creating the base model using transfer learning"
   ]
  },
  {
   "cell_type": "code",
   "execution_count": 48,
   "metadata": {
    "colab": {
     "base_uri": "https://localhost:8080/",
     "height": 52
    },
    "colab_type": "code",
    "id": "69HNl055Es2Y",
    "outputId": "eee4a8d4-4280-4659-c67c-9d0c2d856e44"
   },
   "outputs": [
    {
     "name": "stderr",
     "output_type": "stream",
     "text": [
      "/usr/local/lib/python3.6/dist-packages/keras_applications/resnet50.py:265: UserWarning: The output shape of `ResNet50(include_top=False)` has been changed since Keras 2.2.0.\n",
      "  warnings.warn('The output shape of `ResNet50(include_top=False)` '\n"
     ]
    }
   ],
   "source": [
    "img_height,img_width = 128,128\n",
    "num_classes = 32\n",
    "#If imagenet weights are being loaded, \n",
    "#input must have a static square shape (one of (128, 128), (160, 160), (192, 192), or (224, 224))\n",
    "base_model = applications.resnet50.ResNet50(weights= 'imagenet', include_top=False, input_shape= (img_height,img_width,3))"
   ]
  },
  {
   "cell_type": "code",
   "execution_count": 49,
   "metadata": {
    "colab": {
     "base_uri": "https://localhost:8080/",
     "height": 54
    },
    "colab_type": "code",
    "id": "dpOB2cfiHkXB",
    "outputId": "ff311750-22d1-45a6-ed4c-72f3f6bce191"
   },
   "outputs": [
    {
     "name": "stderr",
     "output_type": "stream",
     "text": [
      "W0701 15:23:19.938106 140685096044416 nn_ops.py:4224] Large dropout rate: 0.7 (>0.5). In TensorFlow 2.x, dropout() uses dropout rate instead of keep_prob. Please ensure that this is intended.\n"
     ]
    }
   ],
   "source": [
    "x = base_model.output\n",
    "x = GlobalAveragePooling2D()(x)\n",
    "x = Dropout(0.7)(x)\n",
    "predictions = Dense(num_classes, activation= 'softmax')(x)\n",
    "model_eye1 = Model(inputs = base_model.input, outputs = predictions)"
   ]
  },
  {
   "cell_type": "code",
   "execution_count": 0,
   "metadata": {
    "colab": {},
    "colab_type": "code",
    "id": "c7KXaliEH6z3"
   },
   "outputs": [],
   "source": [
    "from keras.optimizers import SGD, Adam\n",
    "# sgd = SGD(lr=lrate, momentum=0.9, decay=decay, nesterov=False)\n",
    "adam = Adam(lr=0.0001)\n",
    "model_eye1.compile(optimizer= adam, loss='categorical_crossentropy', metrics=['accuracy'])"
   ]
  },
  {
   "cell_type": "markdown",
   "metadata": {
    "colab_type": "text",
    "id": "rJIhSJRSKkME"
   },
   "source": [
    "## Training the model"
   ]
  },
  {
   "cell_type": "code",
   "execution_count": 52,
   "metadata": {
    "colab": {
     "base_uri": "https://localhost:8080/",
     "height": 1000
    },
    "colab_type": "code",
    "id": "gs0YcRxfIDlV",
    "outputId": "a490fd38-e0c7-4b62-9ea9-656bc0028f3c"
   },
   "outputs": [
    {
     "name": "stdout",
     "output_type": "stream",
     "text": [
      "Epoch 1/50\n",
      "641/641 [==============================] - 13s 21ms/step - loss: 3.7092 - acc: 0.1654\n",
      "Epoch 2/50\n",
      "641/641 [==============================] - 3s 5ms/step - loss: 1.5366 - acc: 0.6006\n",
      "Epoch 3/50\n",
      "641/641 [==============================] - 3s 5ms/step - loss: 0.7988 - acc: 0.8081\n",
      "Epoch 4/50\n",
      "641/641 [==============================] - 3s 5ms/step - loss: 0.4314 - acc: 0.9095\n",
      "Epoch 5/50\n",
      "641/641 [==============================] - 3s 5ms/step - loss: 0.2733 - acc: 0.9594\n",
      "Epoch 6/50\n",
      "641/641 [==============================] - 3s 5ms/step - loss: 0.1787 - acc: 0.9688\n",
      "Epoch 7/50\n",
      "641/641 [==============================] - 3s 5ms/step - loss: 0.1326 - acc: 0.9766\n",
      "Epoch 8/50\n",
      "641/641 [==============================] - 3s 5ms/step - loss: 0.1004 - acc: 0.9875\n",
      "Epoch 9/50\n",
      "641/641 [==============================] - 3s 5ms/step - loss: 0.0726 - acc: 0.9891\n",
      "Epoch 10/50\n",
      "641/641 [==============================] - 3s 5ms/step - loss: 0.0575 - acc: 0.9922\n",
      "Epoch 11/50\n",
      "641/641 [==============================] - 3s 5ms/step - loss: 0.0519 - acc: 0.9953\n",
      "Epoch 12/50\n",
      "641/641 [==============================] - 3s 5ms/step - loss: 0.0726 - acc: 0.9922\n",
      "Epoch 13/50\n",
      "641/641 [==============================] - 3s 5ms/step - loss: 0.0543 - acc: 0.9969\n",
      "Epoch 14/50\n",
      "641/641 [==============================] - 3s 5ms/step - loss: 0.0426 - acc: 0.9953\n",
      "Epoch 15/50\n",
      "641/641 [==============================] - 3s 5ms/step - loss: 0.0376 - acc: 0.9938\n",
      "Epoch 16/50\n",
      "641/641 [==============================] - 3s 5ms/step - loss: 0.0364 - acc: 0.9984\n",
      "Epoch 17/50\n",
      "641/641 [==============================] - 3s 5ms/step - loss: 0.0437 - acc: 0.9922\n",
      "Epoch 18/50\n",
      "641/641 [==============================] - 3s 5ms/step - loss: 0.0460 - acc: 0.9938\n",
      "Epoch 19/50\n",
      "641/641 [==============================] - 3s 5ms/step - loss: 0.0422 - acc: 0.9953\n",
      "Epoch 20/50\n",
      "641/641 [==============================] - 3s 5ms/step - loss: 0.0298 - acc: 0.9969\n",
      "Epoch 21/50\n",
      "641/641 [==============================] - 3s 5ms/step - loss: 0.0290 - acc: 0.9969\n",
      "Epoch 22/50\n",
      "641/641 [==============================] - 3s 5ms/step - loss: 0.0310 - acc: 0.9922\n",
      "Epoch 23/50\n",
      "641/641 [==============================] - 3s 5ms/step - loss: 0.0285 - acc: 0.9969\n",
      "Epoch 24/50\n",
      "641/641 [==============================] - 3s 5ms/step - loss: 0.0259 - acc: 0.9969\n",
      "Epoch 25/50\n",
      "641/641 [==============================] - 3s 5ms/step - loss: 0.0262 - acc: 0.9953\n",
      "Epoch 26/50\n",
      "641/641 [==============================] - 3s 5ms/step - loss: 0.0214 - acc: 0.9984\n",
      "Epoch 27/50\n",
      "641/641 [==============================] - 3s 5ms/step - loss: 0.0271 - acc: 0.9969\n",
      "Epoch 28/50\n",
      "641/641 [==============================] - 3s 5ms/step - loss: 0.0264 - acc: 0.9969\n",
      "Epoch 29/50\n",
      "641/641 [==============================] - 3s 5ms/step - loss: 0.0211 - acc: 0.9984\n",
      "Epoch 30/50\n",
      "641/641 [==============================] - 3s 5ms/step - loss: 0.0216 - acc: 0.9984\n",
      "Epoch 31/50\n",
      "641/641 [==============================] - 3s 5ms/step - loss: 0.0296 - acc: 0.9969\n",
      "Epoch 32/50\n",
      "641/641 [==============================] - 3s 5ms/step - loss: 0.0256 - acc: 0.9969\n",
      "Epoch 33/50\n",
      "641/641 [==============================] - 3s 5ms/step - loss: 0.0262 - acc: 0.9969\n",
      "Epoch 34/50\n",
      "641/641 [==============================] - 3s 5ms/step - loss: 0.0297 - acc: 0.9953\n",
      "Epoch 35/50\n",
      "641/641 [==============================] - 3s 5ms/step - loss: 0.0270 - acc: 0.9969\n",
      "Epoch 36/50\n",
      "641/641 [==============================] - 3s 5ms/step - loss: 0.0215 - acc: 0.9984\n",
      "Epoch 37/50\n",
      "641/641 [==============================] - 3s 5ms/step - loss: 0.0193 - acc: 0.9984\n",
      "Epoch 38/50\n",
      "641/641 [==============================] - 3s 5ms/step - loss: 0.0232 - acc: 0.9969\n",
      "Epoch 39/50\n",
      "641/641 [==============================] - 3s 5ms/step - loss: 0.0231 - acc: 0.9984\n",
      "Epoch 40/50\n",
      "641/641 [==============================] - 3s 5ms/step - loss: 0.0216 - acc: 0.9984\n",
      "Epoch 41/50\n",
      "641/641 [==============================] - 3s 5ms/step - loss: 0.0182 - acc: 0.9984\n",
      "Epoch 42/50\n",
      "641/641 [==============================] - 3s 5ms/step - loss: 0.0203 - acc: 0.9984\n",
      "Epoch 43/50\n",
      "641/641 [==============================] - 3s 5ms/step - loss: 0.0156 - acc: 1.0000\n",
      "Epoch 44/50\n",
      "641/641 [==============================] - 3s 5ms/step - loss: 0.0158 - acc: 0.9984\n",
      "Epoch 45/50\n",
      "641/641 [==============================] - 3s 5ms/step - loss: 0.0152 - acc: 0.9984\n",
      "Epoch 46/50\n",
      "641/641 [==============================] - 3s 5ms/step - loss: 0.0195 - acc: 0.9984\n",
      "Epoch 47/50\n",
      "641/641 [==============================] - 3s 5ms/step - loss: 0.0180 - acc: 0.9984\n",
      "Epoch 48/50\n",
      "641/641 [==============================] - 3s 5ms/step - loss: 0.0247 - acc: 0.9969\n",
      "Epoch 49/50\n",
      "641/641 [==============================] - 3s 5ms/step - loss: 0.0203 - acc: 0.9969\n",
      "Epoch 50/50\n",
      "641/641 [==============================] - 3s 5ms/step - loss: 0.0136 - acc: 1.0000\n"
     ]
    },
    {
     "data": {
      "text/plain": [
       "<keras.callbacks.History at 0x7ff0e4bbb198>"
      ]
     },
     "execution_count": 52,
     "metadata": {
      "tags": []
     },
     "output_type": "execute_result"
    }
   ],
   "source": [
    "model_eye1.fit(X_train_eye1, Y_train_eye1, epochs = 50, batch_size = 32)"
   ]
  },
  {
   "cell_type": "markdown",
   "metadata": {
    "colab_type": "text",
    "id": "x8-hw22_Kqv-"
   },
   "source": [
    "## Evaluating the model on the test set"
   ]
  },
  {
   "cell_type": "code",
   "execution_count": 53,
   "metadata": {
    "colab": {
     "base_uri": "https://localhost:8080/",
     "height": 70
    },
    "colab_type": "code",
    "id": "gNcxxXiTIJEl",
    "outputId": "0a936a9d-f2b3-45cc-ace3-89c9755b125e"
   },
   "outputs": [
    {
     "name": "stdout",
     "output_type": "stream",
     "text": [
      "316/316 [==============================] - 3s 9ms/step\n",
      "Loss = 0.057222424287207516\n",
      "Test Accuracy = 0.990506329113924\n"
     ]
    }
   ],
   "source": [
    "preds = model_eye1.evaluate(X_test_eye1, Y_test_eye1)\n",
    "print (\"Loss = \" + str(preds[0]))\n",
    "print (\"Test Accuracy = \" + str(preds[1]))"
   ]
  },
  {
   "cell_type": "code",
   "execution_count": 55,
   "metadata": {
    "colab": {
     "base_uri": "https://localhost:8080/",
     "height": 34
    },
    "colab_type": "code",
    "id": "M7Cq0EvkcQ31",
    "outputId": "e996187b-2ec6-4f86-acff-606b278096a8"
   },
   "outputs": [
    {
     "data": {
      "text/plain": [
       "316"
      ]
     },
     "execution_count": 55,
     "metadata": {
      "tags": []
     },
     "output_type": "execute_result"
    }
   ],
   "source": [
    "len(y_test_eye1)"
   ]
  },
  {
   "cell_type": "markdown",
   "metadata": {
    "colab_type": "text",
    "id": "EI0rkkjCKxT8"
   },
   "source": [
    "## False Rejection Rate"
   ]
  },
  {
   "cell_type": "code",
   "execution_count": 0,
   "metadata": {
    "colab": {},
    "colab_type": "code",
    "id": "8o_IfuZjIl-A"
   },
   "outputs": [],
   "source": [
    "TP_eye1 = 0\n",
    "tp_eye1=[]\n",
    "fn_eye1=[]\n",
    "predicts=[]\n",
    "FN_eye1 = 0 #False Negative(False Rejection)/typeI error\n",
    "FRR_eye1 = []\n",
    "for T in threshold: \n",
    "  #for key, value in uploaded_eye_test.items():\n",
    "  for i in range(0, 316):\n",
    "    \n",
    "            x = np.expand_dims(X_test_eye1[i], axis=0)#to respond to the input dimensions of the model\n",
    "      \n",
    "            label = y_test_eye1[i]\n",
    "        \n",
    "            p = model_eye1.predict(x)\n",
    "            predicts.append(p)\n",
    "          \n",
    "            if np.amax(p)>=T and label == p.argmax(): # Top matched value's label is equal to the probe's label and the probabiliy surpasses the T\n",
    "              TP_eye1+=1\n",
    "              \n",
    "\n",
    "            if np.amax(p)<T and  label == p.argmax(): # Top matched value's label is the same as the probe's class but this value is lower than the threshold set so, the genuine probe won't be allowed in the system and this is a false reject\n",
    "              FN_eye1+=1\n",
    "\n",
    "            #if np.amax(p) >=T and label != p.argmax(): # Top matched value's label is not equal to the label (wrong match) and this probability surpasses the T value so we get a False Acceptance error\n",
    "            #  FP+=1\n",
    "  FRR_eye1.append(FN_eye1/(FN_eye1+TP_eye1))\n",
    "  \n",
    "  tp_eye1.append(TP_eye1)\n",
    "  fn_eye1.append(FN_eye1)\n",
    "  \n",
    "  TP_eye1=0\n",
    "  FN_eye1=0"
   ]
  },
  {
   "cell_type": "markdown",
   "metadata": {
    "colab_type": "text",
    "id": "lSMBkRWAK2Zm"
   },
   "source": [
    "## False Acceptance Rate"
   ]
  },
  {
   "cell_type": "code",
   "execution_count": 0,
   "metadata": {
    "colab": {},
    "colab_type": "code",
    "id": "BW3jWbEyIzU8"
   },
   "outputs": [],
   "source": [
    "#open files from your local file system\n",
    "from google.colab import files\n",
    "\n",
    "uploaded_imposter_eye1 = files.upload()\n",
    "\n",
    "for fn in uploaded_imposter_eye1.keys():\n",
    "  print('User uploaded file \"{name}\" with length {length} bytes'.format(\n",
    "      name=fn, length=len(uploaded_imposter_eye1[fn])))"
   ]
  },
  {
   "cell_type": "code",
   "execution_count": 0,
   "metadata": {
    "colab": {},
    "colab_type": "code",
    "id": "l0cxahuf3vzE"
   },
   "outputs": [],
   "source": [
    "imposter_keys_eye1=[]\n",
    "for key in uploaded_imposter_eye1.keys():\n",
    "  imposter_keys_eye1.append(key[1:3])"
   ]
  },
  {
   "cell_type": "code",
   "execution_count": 0,
   "metadata": {
    "colab": {},
    "colab_type": "code",
    "id": "R1CVgYNUJFKA"
   },
   "outputs": [],
   "source": [
    "TN_eye1 = 0\n",
    "FP_eye1 = 0 #False Positive(False Acceptance)/typeII error\n",
    "FAR_eye1 = []\n",
    "for T in threshold:\n",
    "  key_index = 0\n",
    "  for key, value in uploaded_imposter_eye1.items():\n",
    "          img_path = key\n",
    "          img = image.load_img(img_path, target_size=(128, 128))#loads as image in the PIL format\n",
    "          x = image.img_to_array(img)#equal to cv2\n",
    "          x = np.expand_dims(x, axis=0)#to respond to the input dimensions of the model\n",
    "          x = preprocess_input(x)#normalizing pixel values to caffe style\n",
    "          label = int(imposter_keys_eye1[key_index])\n",
    "          key_index+=1\n",
    "\n",
    "          p = model_eye1.predict(x)\n",
    "          if np.amax(p)>=T and label == p.argmax(): # An imposter pretending to be one of genuine probes, top matches and this probabbility surpasses the T value\n",
    "            FP_eye1 +=1\n",
    "\n",
    "          if np.amax(p)<T: # An imposter pretening to be a genuine probe, matches the highest but this probability does not surpass the T value\n",
    "            TN_eye1 +=1\n",
    "\n",
    "          if np.amax(p)>T and label != p.argmax():\n",
    "            TN_eye1 +=1\n",
    "\n",
    "          #if np.amax(p) >=T and label != p.argmax(): # Top matched value's label is not equal to the label (wrong match) and this probability surpasses the T value so we get a False Acceptance error\n",
    "          #  FP+=1\n",
    "\n",
    "          #L.append([p, label, (np.amax(p), p.argmax())])\n",
    "\n",
    "  FAR_eye1.append(FP_eye1/(TN_eye1+FP_eye1))    \n",
    "  FP_eye1=0\n",
    "  TN_eye1=0      "
   ]
  },
  {
   "cell_type": "markdown",
   "metadata": {
    "colab_type": "text",
    "id": "r3kGBg1aK_oQ"
   },
   "source": [
    "## Plotting"
   ]
  },
  {
   "cell_type": "code",
   "execution_count": 57,
   "metadata": {
    "colab": {
     "base_uri": "https://localhost:8080/",
     "height": 294
    },
    "colab_type": "code",
    "id": "zOMTSsOCK-9Q",
    "outputId": "89b667f5-c488-4da1-f5f9-e7d12fde0d51"
   },
   "outputs": [
    {
     "data": {
      "image/png": "[encoded data removed]",
      "text/plain": [
       "<Figure size 432x288 with 1 Axes>"
      ]
     },
     "metadata": {
      "tags": []
     },
     "output_type": "display_data"
    }
   ],
   "source": [
    "# importing the required module \n",
    "import matplotlib.pyplot as plt \n",
    "\n",
    "# x axis values \n",
    "# FRR \n",
    "# corresponding y axis values \n",
    "# t\n",
    "\n",
    "# plotting the points \n",
    "plt.plot(t, FRR_eye1) \n",
    "\n",
    "# naming the x axis \n",
    "plt.xlabel('threshold') \n",
    "# naming the y axis \n",
    "plt.ylabel('Error_rate') \n",
    "\n",
    "# giving a title to my graph \n",
    "plt.title('FRR') \n",
    "\n",
    "# function to show the plot \n",
    "plt.show() "
   ]
  },
  {
   "cell_type": "code",
   "execution_count": 72,
   "metadata": {
    "colab": {
     "base_uri": "https://localhost:8080/",
     "height": 294
    },
    "colab_type": "code",
    "id": "Cg5ufIdGLB9f",
    "outputId": "f69d1bdc-fea1-4159-bc3a-a3d46ea95b95"
   },
   "outputs": [
    {
     "data": {
      "image/png": "[encoded data removed]",
      "text/plain": [
       "<Figure size 432x288 with 1 Axes>"
      ]
     },
     "metadata": {
      "tags": []
     },
     "output_type": "display_data"
    }
   ],
   "source": [
    "# plotting the points \n",
    "plt.plot(t, FAR_eye1) \n",
    "\n",
    "# naming the x axis \n",
    "plt.xlabel('threshold') \n",
    "# naming the y axis \n",
    "plt.ylabel('FAR') \n",
    "\n",
    "# giving a title to my graph \n",
    "plt.title('FAR') \n",
    "\n",
    "# function to show the plot \n",
    "plt.show()"
   ]
  },
  {
   "cell_type": "code",
   "execution_count": 73,
   "metadata": {
    "colab": {
     "base_uri": "https://localhost:8080/",
     "height": 294
    },
    "colab_type": "code",
    "id": "ZH7HOwYTLCGB",
    "outputId": "086fb0b9-d52c-4890-eb0b-2162cb0223c2"
   },
   "outputs": [
    {
     "data": {
      "image/png": "[encoded data removed]",
      "text/plain": [
       "<Figure size 432x288 with 1 Axes>"
      ]
     },
     "metadata": {
      "tags": []
     },
     "output_type": "display_data"
    }
   ],
   "source": [
    "plt.axis([0, 1, -0, 0.2])\n",
    "# line 1 points \n",
    "# plotting the line 1 points \n",
    "plt.plot(t, FRR_eye1, label = \"FRR\") \n",
    "\n",
    "# line 2 points \n",
    "# plotting the line 2 points \n",
    "plt.plot(t, FAR_eye1, label = \"FAR\") \n",
    "\n",
    "# naming the x axis \n",
    "plt.xlabel('threshold') \n",
    "# naming the y axis \n",
    "plt.ylabel('Error_Rate') \n",
    "# giving a title to my graph \n",
    "plt.title('FAR and FRR with different thresholds!') \n",
    "\n",
    "\n",
    "# show a legend on the plot \n",
    "plt.legend() \n",
    "\n",
    "# function to show the plot \n",
    "plt.show()"
   ]
  },
  {
   "cell_type": "markdown",
   "metadata": {
    "colab_type": "text",
    "id": "GEUMcqQtm5mj"
   },
   "source": [
    "# Eye2 Verification "
   ]
  },
  {
   "cell_type": "code",
   "execution_count": 0,
   "metadata": {
    "colab": {},
    "colab_type": "code",
    "id": "ZKLQ9_PVnGbK"
   },
   "outputs": [],
   "source": [
    "#open files from your local file system\n",
    "from google.colab import files\n",
    "\n",
    "uploaded_eye2 = files.upload()\n",
    "\n",
    "for fn in uploaded_eye2.keys():\n",
    "  print('User uploaded file \"{name}\" with length {length} bytes'.format(\n",
    "      name=fn, length=len(uploaded_eye2[fn])))"
   ]
  },
  {
   "cell_type": "markdown",
   "metadata": {
    "colab_type": "text",
    "id": "MF7lXNLvorkX"
   },
   "source": [
    "### Preparing data items and their labels to feed to the train_test_split function"
   ]
  },
  {
   "cell_type": "code",
   "execution_count": 0,
   "metadata": {
    "colab": {},
    "colab_type": "code",
    "id": "RMTmAUX9nURA"
   },
   "outputs": [],
   "source": [
    "Images_X = []\n",
    "for key, value in uploaded_eye2.items():\n",
    "          img_path = key\n",
    "          img = image.load_img(img_path, target_size=(128, 128))#loads as image in the PIL format\n",
    "          x = image.img_to_array(img)#equal to cv2\n",
    "          x = np.expand_dims(x, axis=0)#to respond to the input dimensions of the model\n",
    "          x = preprocess_input(x)#normalizing pixel values to caffe style\n",
    "          Images_X.append(x)"
   ]
  },
  {
   "cell_type": "code",
   "execution_count": 79,
   "metadata": {
    "colab": {
     "base_uri": "https://localhost:8080/",
     "height": 34
    },
    "colab_type": "code",
    "id": "ctswQGvhnlMg",
    "outputId": "1323a8cf-39c9-4fd2-aca0-ff21af535288"
   },
   "outputs": [
    {
     "data": {
      "text/plain": [
       "(966, 128, 128, 3)"
      ]
     },
     "execution_count": 79,
     "metadata": {
      "tags": []
     },
     "output_type": "execute_result"
    }
   ],
   "source": [
    "Images_X = np.array(Images_X)\n",
    "Images_X = Images_X.reshape(Images_X.shape[0],128, 128, 3)\n",
    "Images_X.shape"
   ]
  },
  {
   "cell_type": "code",
   "execution_count": 0,
   "metadata": {
    "colab": {},
    "colab_type": "code",
    "id": "qCwhvjP2n-NB"
   },
   "outputs": [],
   "source": [
    "keys=[]\n",
    "for key, value in uploaded_eye2.items():\n",
    "  keys.append(key[1:3])\n",
    "keys = [key.replace('_', '') for key in keys]\n",
    "Images_Y = np.array([int(i) for i in keys])"
   ]
  },
  {
   "cell_type": "markdown",
   "metadata": {
    "colab_type": "text",
    "id": "uilhh8aDo6QF"
   },
   "source": [
    "### train_test_split"
   ]
  },
  {
   "cell_type": "code",
   "execution_count": 0,
   "metadata": {
    "colab": {},
    "colab_type": "code",
    "id": "M0OPKP_0o5g2"
   },
   "outputs": [],
   "source": [
    "X_train, X_test, y_train, y_test = train_test_split(Images_X, Images_Y, test_size=0.33, random_state=42)"
   ]
  },
  {
   "cell_type": "markdown",
   "metadata": {
    "colab_type": "text",
    "id": "GZCUw-fdpTYG"
   },
   "source": [
    "### one hot encoding the labels to feed the keras model"
   ]
  },
  {
   "cell_type": "code",
   "execution_count": 0,
   "metadata": {
    "colab": {},
    "colab_type": "code",
    "id": "kx3igGm5pMPS"
   },
   "outputs": [],
   "source": [
    "Y_train = convert_to_one_hot(y_train,32).T\n",
    "Y_test = convert_to_one_hot(y_test,32).T"
   ]
  },
  {
   "cell_type": "markdown",
   "metadata": {
    "colab_type": "text",
    "id": "Ne_QiwV9pYwN"
   },
   "source": [
    "# Model"
   ]
  },
  {
   "cell_type": "code",
   "execution_count": 83,
   "metadata": {
    "colab": {
     "base_uri": "https://localhost:8080/",
     "height": 52
    },
    "colab_type": "code",
    "id": "NuUKseoXpZB8",
    "outputId": "4b9a3584-8407-4660-e8c5-1b60e2af92a9"
   },
   "outputs": [
    {
     "name": "stderr",
     "output_type": "stream",
     "text": [
      "/usr/local/lib/python3.6/dist-packages/keras_applications/resnet50.py:265: UserWarning: The output shape of `ResNet50(include_top=False)` has been changed since Keras 2.2.0.\n",
      "  warnings.warn('The output shape of `ResNet50(include_top=False)` '\n"
     ]
    }
   ],
   "source": [
    "img_height,img_width = 128,128\n",
    "num_classes = 32\n",
    "base_model = applications.resnet50.ResNet50(weights= 'imagenet', include_top=False, input_shape= (img_height,img_width,3))"
   ]
  },
  {
   "cell_type": "code",
   "execution_count": 84,
   "metadata": {
    "colab": {
     "base_uri": "https://localhost:8080/",
     "height": 54
    },
    "colab_type": "code",
    "id": "UhnHjTt7pg4q",
    "outputId": "c7a86f5d-85be-45de-b067-9a15ec5e0d73"
   },
   "outputs": [
    {
     "name": "stderr",
     "output_type": "stream",
     "text": [
      "W0701 19:13:43.532840 140685096044416 nn_ops.py:4224] Large dropout rate: 0.7 (>0.5). In TensorFlow 2.x, dropout() uses dropout rate instead of keep_prob. Please ensure that this is intended.\n"
     ]
    }
   ],
   "source": [
    "x = base_model.output\n",
    "x = GlobalAveragePooling2D()(x)\n",
    "x = Dropout(0.7)(x)\n",
    "predictions = Dense(num_classes, activation= 'softmax')(x)\n",
    "model_eye2 = Model(inputs = base_model.input, outputs = predictions)"
   ]
  },
  {
   "cell_type": "code",
   "execution_count": 0,
   "metadata": {
    "colab": {},
    "colab_type": "code",
    "id": "saPb3v0spllz"
   },
   "outputs": [],
   "source": [
    "from keras.optimizers import SGD, Adam\n",
    "# sgd = SGD(lr=lrate, momentum=0.9, decay=decay, nesterov=False)\n",
    "adam = Adam(lr=0.0001)\n",
    "model_eye2.compile(optimizer= adam, loss='categorical_crossentropy', metrics=['accuracy'])"
   ]
  },
  {
   "cell_type": "code",
   "execution_count": 87,
   "metadata": {
    "colab": {
     "base_uri": "https://localhost:8080/",
     "height": 1000
    },
    "colab_type": "code",
    "id": "9U4WBb-VpxyC",
    "outputId": "164c6f69-4dd0-494e-8728-7eb8f20feb05"
   },
   "outputs": [
    {
     "name": "stdout",
     "output_type": "stream",
     "text": [
      "Epoch 1/50\n",
      "647/647 [==============================] - 19s 29ms/step - loss: 3.7201 - acc: 0.1546\n",
      "Epoch 2/50\n",
      "647/647 [==============================] - 3s 5ms/step - loss: 1.5472 - acc: 0.5796\n",
      "Epoch 3/50\n",
      "647/647 [==============================] - 3s 5ms/step - loss: 0.7782 - acc: 0.7929\n",
      "Epoch 4/50\n",
      "647/647 [==============================] - 3s 5ms/step - loss: 0.4093 - acc: 0.9165\n",
      "Epoch 5/50\n",
      "647/647 [==============================] - 3s 5ms/step - loss: 0.2017 - acc: 0.9614\n",
      "Epoch 6/50\n",
      "647/647 [==============================] - 3s 5ms/step - loss: 0.1356 - acc: 0.9861\n",
      "Epoch 7/50\n",
      "647/647 [==============================] - 3s 5ms/step - loss: 0.0787 - acc: 0.9845\n",
      "Epoch 8/50\n",
      "647/647 [==============================] - 3s 5ms/step - loss: 0.0402 - acc: 0.9985\n",
      "Epoch 9/50\n",
      "647/647 [==============================] - 3s 5ms/step - loss: 0.0281 - acc: 1.0000\n",
      "Epoch 10/50\n",
      "647/647 [==============================] - 3s 5ms/step - loss: 0.0270 - acc: 0.9954\n",
      "Epoch 11/50\n",
      "647/647 [==============================] - 3s 5ms/step - loss: 0.0255 - acc: 0.9969\n",
      "Epoch 12/50\n",
      "647/647 [==============================] - 3s 5ms/step - loss: 0.0259 - acc: 0.9954\n",
      "Epoch 13/50\n",
      "647/647 [==============================] - 3s 5ms/step - loss: 0.0192 - acc: 0.9985\n",
      "Epoch 14/50\n",
      "647/647 [==============================] - 3s 5ms/step - loss: 0.0185 - acc: 0.9938\n",
      "Epoch 15/50\n",
      "647/647 [==============================] - 3s 5ms/step - loss: 0.0147 - acc: 0.9985\n",
      "Epoch 16/50\n",
      "647/647 [==============================] - 3s 5ms/step - loss: 0.0101 - acc: 1.0000\n",
      "Epoch 17/50\n",
      "647/647 [==============================] - 3s 5ms/step - loss: 0.0115 - acc: 1.0000\n",
      "Epoch 18/50\n",
      "647/647 [==============================] - 3s 5ms/step - loss: 0.0065 - acc: 1.0000\n",
      "Epoch 19/50\n",
      "647/647 [==============================] - 3s 5ms/step - loss: 0.0125 - acc: 0.9985\n",
      "Epoch 20/50\n",
      "647/647 [==============================] - 3s 5ms/step - loss: 0.0123 - acc: 0.9985\n",
      "Epoch 21/50\n",
      "647/647 [==============================] - 3s 5ms/step - loss: 0.0166 - acc: 0.9969\n",
      "Epoch 22/50\n",
      "647/647 [==============================] - 3s 5ms/step - loss: 0.0148 - acc: 0.9969\n",
      "Epoch 23/50\n",
      "647/647 [==============================] - 3s 5ms/step - loss: 0.0079 - acc: 0.9985\n",
      "Epoch 24/50\n",
      "647/647 [==============================] - 3s 5ms/step - loss: 0.0163 - acc: 0.9969\n",
      "Epoch 25/50\n",
      "647/647 [==============================] - 3s 5ms/step - loss: 0.0177 - acc: 0.9985\n",
      "Epoch 26/50\n",
      "647/647 [==============================] - 3s 5ms/step - loss: 0.0122 - acc: 1.0000\n",
      "Epoch 27/50\n",
      "647/647 [==============================] - 3s 5ms/step - loss: 0.0065 - acc: 1.0000\n",
      "Epoch 28/50\n",
      "647/647 [==============================] - 3s 5ms/step - loss: 0.0043 - acc: 1.0000\n",
      "Epoch 29/50\n",
      "647/647 [==============================] - 3s 5ms/step - loss: 0.0152 - acc: 0.9969\n",
      "Epoch 30/50\n",
      "647/647 [==============================] - 3s 5ms/step - loss: 0.0222 - acc: 0.9969\n",
      "Epoch 31/50\n",
      "647/647 [==============================] - 3s 5ms/step - loss: 0.0205 - acc: 0.9954\n",
      "Epoch 32/50\n",
      "647/647 [==============================] - 3s 5ms/step - loss: 0.0231 - acc: 0.9985\n",
      "Epoch 33/50\n",
      "647/647 [==============================] - 3s 5ms/step - loss: 0.0243 - acc: 0.9969\n",
      "Epoch 34/50\n",
      "647/647 [==============================] - 3s 5ms/step - loss: 0.0094 - acc: 0.9985\n",
      "Epoch 35/50\n",
      "647/647 [==============================] - 3s 5ms/step - loss: 0.0397 - acc: 0.9938\n",
      "Epoch 36/50\n",
      "647/647 [==============================] - 3s 5ms/step - loss: 0.0609 - acc: 0.9876\n",
      "Epoch 37/50\n",
      "647/647 [==============================] - 3s 5ms/step - loss: 0.0323 - acc: 0.9938\n",
      "Epoch 38/50\n",
      "647/647 [==============================] - 3s 5ms/step - loss: 0.0358 - acc: 0.9954\n",
      "Epoch 39/50\n",
      "647/647 [==============================] - 3s 5ms/step - loss: 0.0113 - acc: 0.9969\n",
      "Epoch 40/50\n",
      "647/647 [==============================] - 3s 5ms/step - loss: 0.0084 - acc: 1.0000\n",
      "Epoch 41/50\n",
      "647/647 [==============================] - 3s 5ms/step - loss: 0.0097 - acc: 1.0000\n",
      "Epoch 42/50\n",
      "647/647 [==============================] - 3s 5ms/step - loss: 0.0046 - acc: 1.0000\n",
      "Epoch 43/50\n",
      "647/647 [==============================] - 3s 5ms/step - loss: 0.0068 - acc: 0.9969\n",
      "Epoch 44/50\n",
      "647/647 [==============================] - 3s 5ms/step - loss: 0.0231 - acc: 0.9969\n",
      "Epoch 45/50\n",
      "647/647 [==============================] - 3s 5ms/step - loss: 0.0066 - acc: 0.9985\n",
      "Epoch 46/50\n",
      "647/647 [==============================] - 3s 5ms/step - loss: 0.0038 - acc: 0.9985\n",
      "Epoch 47/50\n",
      "647/647 [==============================] - 3s 5ms/step - loss: 0.0024 - acc: 1.0000\n",
      "Epoch 48/50\n",
      "647/647 [==============================] - 3s 5ms/step - loss: 0.0015 - acc: 1.0000\n",
      "Epoch 49/50\n",
      "647/647 [==============================] - 3s 5ms/step - loss: 0.0015 - acc: 1.0000\n",
      "Epoch 50/50\n",
      "647/647 [==============================] - 3s 5ms/step - loss: 0.0042 - acc: 0.9985\n"
     ]
    },
    {
     "data": {
      "text/plain": [
       "<keras.callbacks.History at 0x7ff0d61cc7f0>"
      ]
     },
     "execution_count": 87,
     "metadata": {
      "tags": []
     },
     "output_type": "execute_result"
    }
   ],
   "source": [
    "model_eye2.fit(X_train, Y_train, epochs = 50, batch_size = 32)"
   ]
  },
  {
   "cell_type": "code",
   "execution_count": 88,
   "metadata": {
    "colab": {
     "base_uri": "https://localhost:8080/",
     "height": 70
    },
    "colab_type": "code",
    "id": "ZcrTjiF_py0u",
    "outputId": "d6229454-8363-4de1-a749-fc3f013a8eb8"
   },
   "outputs": [
    {
     "name": "stdout",
     "output_type": "stream",
     "text": [
      "319/319 [==============================] - 4s 12ms/step\n",
      "Loss = 0.031516179424888664\n",
      "Test Accuracy = 0.9937304075235109\n"
     ]
    }
   ],
   "source": [
    "preds = model_eye2.evaluate(X_test, Y_test)\n",
    "print (\"Loss = \" + str(preds[0]))\n",
    "print (\"Test Accuracy = \" + str(preds[1]))"
   ]
  },
  {
   "cell_type": "code",
   "execution_count": 89,
   "metadata": {
    "colab": {
     "base_uri": "https://localhost:8080/",
     "height": 34
    },
    "colab_type": "code",
    "id": "NnQfSDfiMzN5",
    "outputId": "6dd3f001-9345-43d4-b8fd-429c5228da86"
   },
   "outputs": [
    {
     "data": {
      "text/plain": [
       "319"
      ]
     },
     "execution_count": 89,
     "metadata": {
      "tags": []
     },
     "output_type": "execute_result"
    }
   ],
   "source": [
    "len(X_test)"
   ]
  },
  {
   "cell_type": "markdown",
   "metadata": {
    "colab_type": "text",
    "id": "k5TFhq0Fp9fg"
   },
   "source": [
    "# Evaluation "
   ]
  },
  {
   "cell_type": "markdown",
   "metadata": {
    "colab_type": "text",
    "id": "hevtwCD1qAfx"
   },
   "source": [
    "### False Rejection Rate"
   ]
  },
  {
   "cell_type": "code",
   "execution_count": 0,
   "metadata": {
    "colab": {},
    "colab_type": "code",
    "id": "tZt8kMHgp-_l"
   },
   "outputs": [],
   "source": [
    "TP_eye2 = 0\n",
    "FN_eye2 = 0 #False Negative(False Rejection)/typeI error\n",
    "FRR_eye2 = []\n",
    "for T in threshold: \n",
    "  #for key, value in uploaded_eye_test.items():\n",
    "  for i in range(0, 319):\n",
    "    \n",
    "            x = np.expand_dims(X_test[i], axis=0)#to respond to the input dimensions of the model\n",
    "      \n",
    "            label = y_test[i]\n",
    "        \n",
    "            p = model_eye2.predict(x)\n",
    "          \n",
    "            if np.amax(p)>=T and label == p.argmax(): # Top matched value's label is equal to the probe's label and the probabiliy surpasses the T\n",
    "              TP_eye2+=1\n",
    "\n",
    "            if np.amax(p)<T and  label == p.argmax(): # Top matched value's label is the same as the probe's class but this value is lower than the threshold set so, the genuine probe won't be allowed in the system and this is a false reject\n",
    "              FN_eye2+=1\n",
    "\n",
    "            #if np.amax(p) >=T and label != p.argmax(): # Top matched value's label is not equal to the label (wrong match) and this probability surpasses the T value so we get a False Acceptance error\n",
    "            #  FP+=1\n",
    "  FRR_eye2.append(FN_eye2/(FN_eye2+TP_eye2))    \n",
    "  TP_eye2=0\n",
    "  FN_eye2=0"
   ]
  },
  {
   "cell_type": "markdown",
   "metadata": {
    "colab_type": "text",
    "id": "PteeVORxqTmB"
   },
   "source": [
    "### False Acceptance Rate"
   ]
  },
  {
   "cell_type": "code",
   "execution_count": 0,
   "metadata": {
    "colab": {},
    "colab_type": "code",
    "id": "SLtMWdarqTvz"
   },
   "outputs": [],
   "source": [
    "#open files from your local file system\n",
    "from google.colab import files\n",
    "\n",
    "uploaded_imposter_eye2 = files.upload()\n",
    "\n",
    "for fn in uploaded_imposter_eye2.keys():\n",
    "  print('User uploaded file \"{name}\" with length {length} bytes'.format(\n",
    "      name=fn, length=len(uploaded_imposter_eye2[fn])))"
   ]
  },
  {
   "cell_type": "code",
   "execution_count": 0,
   "metadata": {
    "colab": {},
    "colab_type": "code",
    "id": "D5VLaTXKqdMO"
   },
   "outputs": [],
   "source": [
    "imposter_keys_eye2=[]\n",
    "for key in uploaded_imposter_eye2.keys():\n",
    "  imposter_keys_eye2.append(key[1:3])"
   ]
  },
  {
   "cell_type": "code",
   "execution_count": 0,
   "metadata": {
    "colab": {},
    "colab_type": "code",
    "id": "hPrrBJ3gqjxq"
   },
   "outputs": [],
   "source": [
    "TN_eye2 = 0\n",
    "FP_eye2 = 0 #False Positive(False Acceptance)/typeII error\n",
    "FAR_eye2=[]\n",
    "#predicts = []\n",
    "for T in threshold:\n",
    "  key_index = 0\n",
    "  for key, value in uploaded_imposter_eye2.items():\n",
    "            img_path = key\n",
    "            img = image.load_img(img_path, target_size=(128, 128))#loads as image in the PIL format\n",
    "            x = image.img_to_array(img)#equal to cv2\n",
    "            x = np.expand_dims(x, axis=0)#to respond to the input dimensions of the model\n",
    "            x = preprocess_input(x)#normalizing pixel values to caffe style\n",
    "            label = int(imposter_keys_eye2[key_index])\n",
    "            key_index+=1\n",
    "\n",
    "            p = model_eye2.predict(x)\n",
    "            #predicts.append(p)\n",
    "            if np.amax(p)>=T and label == p.argmax(): # An imposter pretending to be one of genuine probes, top matches and this probabbility surpasses the T value\n",
    "              FP_eye2+=1\n",
    "\n",
    "            if np.amax(p)<T: # An imposter pretening to be a genuine probe, matches the highest but this probability does not surpass the T value\n",
    "              TN_eye2+=1\n",
    "\n",
    "            if np.amax(p)>T and label != p.argmax():\n",
    "              TN_eye2+=1\n",
    "\n",
    "            #if np.amax(p) >=T and label != p.argmax(): # Top matched value's label is not equal to the label (wrong match) and this probability surpasses the T value so we get a False Acceptance error\n",
    "            #  FP+=1\n",
    "\n",
    "            #L.append([p, label, (np.amax(p), p.argmax())])\n",
    "\n",
    "  FAR_eye2.append(FP_eye2/(TN_eye2+FP_eye2))    \n",
    "  FP_eye2=0\n",
    "  TN_eye2=0   "
   ]
  },
  {
   "cell_type": "markdown",
   "metadata": {
    "colab_type": "text",
    "id": "hblbyWrDq9DV"
   },
   "source": [
    "# Plots"
   ]
  },
  {
   "cell_type": "code",
   "execution_count": 91,
   "metadata": {
    "colab": {
     "base_uri": "https://localhost:8080/",
     "height": 294
    },
    "colab_type": "code",
    "id": "u8Dlina7q_oF",
    "outputId": "fd3977e5-53d2-4444-acb6-78dd172e5749"
   },
   "outputs": [
    {
     "data": {
      "image/png": "[encoded data removed]",
      "text/plain": [
       "<Figure size 432x288 with 1 Axes>"
      ]
     },
     "metadata": {
      "tags": []
     },
     "output_type": "display_data"
    }
   ],
   "source": [
    "# importing the required module \n",
    "import matplotlib.pyplot as plt \n",
    "\n",
    "# x axis values \n",
    "# FRR \n",
    "# corresponding y axis values \n",
    "# t\n",
    "\n",
    "# plotting the points \n",
    "plt.plot(t, FRR_eye2) \n",
    "\n",
    "# naming the x axis \n",
    "plt.xlabel('threshold') \n",
    "# naming the y axis \n",
    "plt.ylabel('Error_rate') \n",
    "\n",
    "# giving a title to my graph \n",
    "plt.title('FRR') \n",
    "\n",
    "# function to show the plot \n",
    "plt.show() "
   ]
  },
  {
   "cell_type": "code",
   "execution_count": 111,
   "metadata": {
    "colab": {
     "base_uri": "https://localhost:8080/",
     "height": 294
    },
    "colab_type": "code",
    "id": "RmdUwg8urEAA",
    "outputId": "59af911d-16d3-49f8-a402-65f27b2c9a6e"
   },
   "outputs": [
    {
     "data": {
      "image/png": "[encoded data removed]",
      "text/plain": [
       "<Figure size 432x288 with 1 Axes>"
      ]
     },
     "metadata": {
      "tags": []
     },
     "output_type": "display_data"
    }
   ],
   "source": [
    "# plotting the points \n",
    "plt.plot(t, FAR_eye2) \n",
    "\n",
    "# naming the x axis \n",
    "plt.xlabel('threshold') \n",
    "# naming the y axis \n",
    "plt.ylabel('FAR') \n",
    "\n",
    "# giving a title to my graph \n",
    "plt.title('FAR') \n",
    "\n",
    "# functionto show the plot \n",
    "plt.show()"
   ]
  },
  {
   "cell_type": "code",
   "execution_count": 112,
   "metadata": {
    "colab": {
     "base_uri": "https://localhost:8080/",
     "height": 294
    },
    "colab_type": "code",
    "id": "UB44PMn5rHhO",
    "outputId": "ab9fc655-c6b0-41db-c8bd-321e59e72fff"
   },
   "outputs": [
    {
     "data": {
      "image/png": "[encoded data removed]",
      "text/plain": [
       "<Figure size 432x288 with 1 Axes>"
      ]
     },
     "metadata": {
      "tags": []
     },
     "output_type": "display_data"
    }
   ],
   "source": [
    "#plt.axis([0, 1, -0, 0.150])\n",
    "# line 1 points \n",
    "# plotting the line 1 points \n",
    "plt.plot(t, FRR_eye2, label = \"FRR\") \n",
    "\n",
    "# line 2 points \n",
    "# plotting the line 2 points \n",
    "plt.plot(t, FAR_eye2, label = \"FAR\") \n",
    "\n",
    "# naming the x axis \n",
    "plt.xlabel('threshold') \n",
    "# naming the y axis \n",
    "plt.ylabel('Error_Rate') \n",
    "# giving a title to my graph \n",
    "plt.title('FAR and FRR with different thresholds!') \n",
    "\n",
    "\n",
    "# show a legend on the plot \n",
    "plt.legend() \n",
    "\n",
    "# function to show the plot \n",
    "plt.show()"
   ]
  },
  {
   "cell_type": "markdown",
   "metadata": {
    "colab_type": "text",
    "id": "fbG__mizfFvC"
   },
   "source": [
    "# Multibiometrics\n"
   ]
  },
  {
   "cell_type": "markdown",
   "metadata": {
    "colab_type": "text",
    "id": "oTLzV_I2VizD"
   },
   "source": [
    "### Experimental section - to be completed"
   ]
  },
  {
   "cell_type": "markdown",
   "metadata": {
    "colab_type": "text",
    "id": "khJ8nkj5fiXk"
   },
   "source": [
    "\n",
    "\n",
    "1.   Face+Eye1\n",
    "2.   Face+Eye2\n",
    "3.   Face+Eye1+Eye2\n",
    "4.   Eye1+Eye2\n",
    "\n"
   ]
  },
  {
   "cell_type": "markdown",
   "metadata": {
    "colab_type": "text",
    "id": "8qiYAMRNf8Dc"
   },
   "source": [
    "### Face+Eye1"
   ]
  },
  {
   "cell_type": "code",
   "execution_count": 0,
   "metadata": {
    "colab": {},
    "colab_type": "code",
    "id": "wJfhsva3f-dv"
   },
   "outputs": [],
   "source": [
    "face_test_keys=face_test_keys[0:10]"
   ]
  },
  {
   "cell_type": "code",
   "execution_count": 0,
   "metadata": {
    "colab": {
     "base_uri": "https://localhost:8080/",
     "height": 34
    },
    "colab_type": "code",
    "id": "cE_TJUY2lRO-",
    "outputId": "4218d9d7-9227-4525-d2a4-0522002c7c1d"
   },
   "outputs": [
    {
     "data": {
      "text/plain": [
       "<zip at 0x7f1d8c011488>"
      ]
     },
     "execution_count": 255,
     "metadata": {
      "tags": []
     },
     "output_type": "execute_result"
    }
   ],
   "source": [
    "zip(face_test_keys, eye_test_keys)"
   ]
  },
  {
   "cell_type": "code",
   "execution_count": 0,
   "metadata": {
    "colab": {},
    "colab_type": "code",
    "id": "5ipwimWDle69"
   },
   "outputs": [],
   "source": [
    "TP = 0\n",
    "FN = 0 #False Negative(False Rejection)/typeI error\n",
    "FRR = []\n",
    "for T in threshold: \n",
    "  for face_key, eye_key in zip(face_test_keys, eye_test_keys):\n",
    "            face_path = face_key\n",
    "            img = image.load_img(face_path, target_size=(128, 128))#loads as image in the PIL format\n",
    "            x = image.img_to_array(img)#equal to cv2\n",
    "            x = np.expand_dims(x, axis=0)#to respond to the input dimensions of the model\n",
    "            x = preprocess_input(x)#normalizing pixel values to caffe style\n",
    "            label = int(face_key[1])\n",
    "            p_face = model.predict(x)\n",
    "            \n",
    "            eye_path = eye_key\n",
    "            img = image.load_img(eye_path, target_size=(128, 128))#loads as image in the PIL format\n",
    "            x = image.img_to_array(img)#equal to cv2\n",
    "            x = np.expand_dims(x, axis=0)#to respond to the input dimensions of the model\n",
    "            x = preprocess_input(x)#normalizing pixel values to caffe style\n",
    "            #label_eye = int(eye_key[1])\n",
    "\n",
    "            p_eye = model_eye.predict(x)\n",
    "            \n",
    "            \n",
    "            p = np.array([x + y for x, y in zip(p_face, p_eye)]) # summing the list of probabilities predicted by two modals\n",
    "            \n",
    "            if np.amax(p)>=T and label == p.argmax(): # Top matched value's label is equal to the probe's label and the probabiliy surpasses the T\n",
    "              TP+=1\n",
    "\n",
    "            if np.amax(p)<T and  label == p.argmax(): # Top matched value's label is the same as the probe's class but this value is lower than the threshold set so, the genuine probe won't be allowed in the system and this is a false reject\n",
    "              FN+=1\n",
    "\n",
    "\n",
    "            #if np.amax(p) >=T and label != p.argmax(): # Top matched value's label is not equal to the label (wrong match) and this probability surpasses the T value so we get a False Acceptance error\n",
    "            #  FP+=1\n",
    "  FRR.append(FN/(FN+TP))    \n",
    "  TP=0\n",
    "  FN=0"
   ]
  },
  {
   "cell_type": "code",
   "execution_count": 0,
   "metadata": {
    "colab": {
     "base_uri": "https://localhost:8080/",
     "height": 294
    },
    "colab_type": "code",
    "id": "ktOHe6hMnYXE",
    "outputId": "b59418ef-d0ff-42ea-caf9-cd3e5d44288c"
   },
   "outputs": [
    {
     "data": {
      "image/png": "[encoded data removed]",
      "text/plain": [
       "<Figure size 432x288 with 1 Axes>"
      ]
     },
     "metadata": {
      "tags": []
     },
     "output_type": "display_data"
    }
   ],
   "source": [
    "# importing the required module \n",
    "import matplotlib.pyplot as plt \n",
    "\n",
    "# x axis values \n",
    "# FRR \n",
    "# corresponding y axis values \n",
    "# t\n",
    "\n",
    "# plotting the points \n",
    "plt.plot(t, FRR) \n",
    "\n",
    "# naming the x axis \n",
    "plt.xlabel('threshold') \n",
    "# naming the y axis \n",
    "plt.ylabel('Error_rate') \n",
    "\n",
    "# giving a title to my graph \n",
    "plt.title('FRR') \n",
    "\n",
    "# function to show the plot \n",
    "plt.show() "
   ]
  },
  {
   "cell_type": "code",
   "execution_count": 0,
   "metadata": {
    "colab": {},
    "colab_type": "code",
    "id": "5BpiKOpP3Byj"
   },
   "outputs": [],
   "source": [
    "# face_imposter_keys\n",
    "# eye_imposter_keys"
   ]
  },
  {
   "cell_type": "code",
   "execution_count": 0,
   "metadata": {
    "colab": {},
    "colab_type": "code",
    "id": "szk5tnlm2uOq"
   },
   "outputs": [],
   "source": [
    "TP = 0\n",
    "FN = 0 #False Negative(False Rejection)/typeI error\n",
    "FAR = []\n",
    "for T in threshold: \n",
    "  for face_key, eye_key in zip(face_imposter_keys, eye_imposter_keys):\n",
    "            face_path = face_key\n",
    "            img = image.load_img(face_path, target_size=(128, 128))#loads as image in the PIL format\n",
    "            x = image.img_to_array(img)#equal to cv2\n",
    "            x = np.expand_dims(x, axis=0)#to respond to the input dimensions of the model\n",
    "            x = preprocess_input(x)#normalizing pixel values to caffe style\n",
    "            label = int(face_key[1])\n",
    "            p_face = model.predict(x)\n",
    "            \n",
    "            eye_path = eye_key\n",
    "            img = image.load_img(eye_path, target_size=(128, 128))#loads as image in the PIL format\n",
    "            x = image.img_to_array(img)#equal to cv2\n",
    "            x = np.expand_dims(x, axis=0)#to respond to the input dimensions of the model\n",
    "            x = preprocess_input(x)#normalizing pixel values to caffe style\n",
    "            #label_eye = int(eye_key[1])\n",
    "\n",
    "            p_eye = model_eye.predict(x)\n",
    "            \n",
    "            \n",
    "            p = np.array([x + y for x, y in zip(p_face, p_eye)]) # summing the list of probabilities predicted by two modals\n",
    "            \n",
    "            if np.amax(p)>=T and label == p.argmax(): # Top matched value's label is equal to the probe's label and the probabiliy surpasses the T\n",
    "              TP+=1\n",
    "\n",
    "            if np.amax(p)<T and  label == p.argmax(): # Top matched value's label is the same as the probe's class but this value is lower than the threshold set so, the genuine probe won't be allowed in the system and this is a false reject\n",
    "              FN+=1\n",
    "\n",
    "\n",
    "            #if np.amax(p) >=T and label != p.argmax(): # Top matched value's label is not equal to the label (wrong match) and this probability surpasses the T value so we get a False Acceptance error\n",
    "            #  FP+=1\n",
    "  FRR.append(FN/(FN+TP))    \n",
    "  TP=0\n",
    "  FN=0"
   ]
  }
 ],
 "metadata": {
  "accelerator": "GPU",
  "colab": {
   "collapsed_sections": [],
   "name": "Copy of Residual_Network_Keras.ipynb",
   "provenance": [],
   "version": "0.3.2"
  },
  "kernelspec": {
   "display_name": "Python 3",
   "language": "python",
   "name": "python3"
  },
  "language_info": {
   "codemirror_mode": {
    "name": "ipython",
    "version": 3
   },
   "file_extension": ".py",
   "mimetype": "text/x-python",
   "name": "python",
   "nbconvert_exporter": "python",
   "pygments_lexer": "ipython3",
   "version": "3.7.3"
  }
 },
 "nbformat": 4,
 "nbformat_minor": 1
}
