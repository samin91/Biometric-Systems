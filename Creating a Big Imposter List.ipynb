{
 "cells": [
  {
   "cell_type": "code",
   "execution_count": 49,
   "metadata": {},
   "outputs": [],
   "source": [
    "import pandas as pd\n",
    "import numpy as np \n",
    "import matplotlib.pyplot as plt\n",
    "import os\n",
    "\n",
    "import imageio\n",
    "\n",
    "from urllib.request import urlopen,urlretrieve\n",
    "from PIL import Image\n",
    "from tqdm import tqdm_notebook\n",
    "%matplotlib inline\n",
    "from sklearn.utils import shuffle\n",
    "import cv2\n",
    "import random"
   ]
  },
  {
   "cell_type": "code",
   "execution_count": 50,
   "metadata": {},
   "outputs": [],
   "source": [
    "Images = os.listdir('C:\\\\Users\\\\samin\\\\Desktop\\\\Imposter1')"
   ]
  },
  {
   "cell_type": "code",
   "execution_count": 51,
   "metadata": {},
   "outputs": [
    {
     "data": {
      "text/plain": [
       "320"
      ]
     },
     "execution_count": 51,
     "metadata": {},
     "output_type": "execute_result"
    }
   ],
   "source": [
    "len(Images)"
   ]
  },
  {
   "cell_type": "code",
   "execution_count": 52,
   "metadata": {},
   "outputs": [],
   "source": [
    "shuffled = shuffle(Images)"
   ]
  },
  {
   "cell_type": "code",
   "execution_count": 53,
   "metadata": {},
   "outputs": [
    {
     "data": {
      "text/plain": [
       "320"
      ]
     },
     "execution_count": 53,
     "metadata": {},
     "output_type": "execute_result"
    }
   ],
   "source": [
    "len(shuffled)"
   ]
  },
  {
   "cell_type": "code",
   "execution_count": 54,
   "metadata": {},
   "outputs": [],
   "source": [
    "shuffled_im = []\n",
    "for img in shuffled:\n",
    "        x = imageio.imread(os.path.join(r'C:\\Users\\samin\\Desktop\\Imposter1',img)) \n",
    "        #img = Image.open(os.path.join(r'C:\\Users\\samin\\Desktop\\Faces',folder,img))          \n",
    "        #x = pil2cvGrey(pil_im)\n",
    "        #img = image.load_img(os.path.join(r'C:\\Users\\samin\\Desktop\\Faces',folder,img),target_size=(128, 128))\n",
    "        #x = image.img_to_array(img)#equal to cv2\n",
    "        #x = np.expand_dims(x, axis=0)#to respond to the input dimensions of the model\n",
    "        #x = preprocess_input(x)#normalizing pixel values to caffe style\n",
    "        shuffled_im.append(x) "
   ]
  },
  {
   "cell_type": "code",
   "execution_count": 55,
   "metadata": {},
   "outputs": [
    {
     "data": {
      "text/plain": [
       "320"
      ]
     },
     "execution_count": 55,
     "metadata": {},
     "output_type": "execute_result"
    }
   ],
   "source": [
    "len(shuffled_im)"
   ]
  },
  {
   "cell_type": "code",
   "execution_count": 61,
   "metadata": {},
   "outputs": [],
   "source": [
    "i = 0\n",
    "for img in shuffled_im:\n",
    "        im = Image.fromarray(img)\n",
    "        path=os.path.join(r'C:\\Users\\samin\\Desktop\\fake', 'S'+str(random.randrange (0,32,1))+'.jpg')\n",
    "        im.save(path, 'JPEG')\n",
    "        i+=1"
   ]
  }
 ],
 "metadata": {
  "kernelspec": {
   "display_name": "Python 3",
   "language": "python",
   "name": "python3"
  },
  "language_info": {
   "codemirror_mode": {
    "name": "ipython",
    "version": 3
   },
   "file_extension": ".py",
   "mimetype": "text/x-python",
   "name": "python",
   "nbconvert_exporter": "python",
   "pygments_lexer": "ipython3",
   "version": "3.7.3"
  }
 },
 "nbformat": 4,
 "nbformat_minor": 2
}
