{
 "cells": [
  {
   "cell_type": "code",
   "execution_count": 1,
   "metadata": {},
   "outputs": [],
   "source": [
    "import os\n",
    "import numpy \n",
    "import cv2\n",
    "from PIL import Image\n",
    "import glob\n",
    "import re"
   ]
  },
  {
   "cell_type": "code",
   "execution_count": 2,
   "metadata": {},
   "outputs": [],
   "source": [
    "def Detecteye(image, eyeCascade, returnImage=False):\n",
    "    # This function takes a grey scale cv image and finds\n",
    "    # the patterns defined in the haarcascade function\n",
    "    \n",
    "    # Detect the eyes\n",
    "    eyes = eyeCascade.detectMultiScale(image, 1.3, 5)\n",
    "\n",
    "    if len(eyes)!=0:\n",
    "        for (x, y, w, h) in eyes:\n",
    "            # Convert bounding box to two CvPoints\n",
    "            pt1 = (int(x), int(y))\n",
    "            pt2 = (int(x + w), int(y + h))\n",
    "            cv2.rectangle(image, pt1, pt2, (255, 0, 0), 2)\n",
    "\n",
    "    if returnImage:\n",
    "        return image\n",
    "    else:\n",
    "        return eyes"
   ]
  },
  {
   "cell_type": "code",
   "execution_count": 3,
   "metadata": {},
   "outputs": [],
   "source": [
    "def pil2cvGrey(pil_im):\n",
    "    # Convert a PIL image to a greyscale cv image\n",
    "    cv_im = cv2.cvtColor(numpy.array(pil_im), cv2.COLOR_RGB2BGR)\n",
    "    return cv_im\n",
    "   "
   ]
  },
  {
   "cell_type": "markdown",
   "metadata": {},
   "source": [
    "OpenCV follows BGR convention and PIL follows RGB color convention, so to keep the things consistent you may need to do use cv2.cvtColor() before conversion."
   ]
  },
  {
   "cell_type": "code",
   "execution_count": 4,
   "metadata": {},
   "outputs": [],
   "source": [
    "def cv2pil(cv_im):\n",
    "    # Convert the cv image to a PIL image\n",
    "    return Image.fromstring(\"L\", cv2.GetSize(cv_im), cv_im.tostring())"
   ]
  },
  {
   "cell_type": "code",
   "execution_count": 5,
   "metadata": {},
   "outputs": [],
   "source": [
    "def imgCrop(image, cropBox, boxScale=1):\n",
    "    # Crop a PIL image with the provided box [x(left), y(upper), w(width), h(height)]\n",
    "\n",
    "    # Calculate scale factors\n",
    "    xDelta = max(cropBox[2]*(boxScale-1), 0)\n",
    "    yDelta = max(cropBox[3]*(boxScale-1), 0)\n",
    "\n",
    "    # Convert cv box to PIL box [left, upper, right, lower]\n",
    "    PIL_box = [cropBox[0]-xDelta, cropBox[1]-yDelta, cropBox[0]+cropBox[2]+xDelta, cropBox[1]+cropBox[3]+yDelta]\n",
    "\n",
    "    return image.crop(PIL_box)"
   ]
  },
  {
   "cell_type": "code",
   "execution_count": 6,
   "metadata": {},
   "outputs": [],
   "source": [
    "def eyeCrop(folders, boxScale=1):\n",
    "    \n",
    "    eyecascade = cv2.CascadeClassifier('haarcascade_eye.xml') \n",
    "\n",
    "    images=os.listdir('C:\\\\Users\\\\samin\\\\Desktop\\\\Imposter')\n",
    "    for img in images:\n",
    "       \n",
    "            pil_im = Image.open(os.path.join(r'C:\\Users\\samin\\Desktop\\Imposter',img))          \n",
    "            cv_im = pil2cvGrey(pil_im)\n",
    "\n",
    "            eyes = Detecteye(cv_im, eyecascade)\n",
    "\n",
    "            if len(eyes)==2:\n",
    "\n",
    "                n = 1\n",
    "                for eye in eyes:\n",
    "                    croppedImage = imgCrop(pil_im, eye, boxScale=boxScale)\n",
    "                    head, tail = os.path.split(img)\n",
    "                    name = tail[0:-4]\n",
    "                    path=os.path.join(r'C:\\Users\\samin\\Desktop\\Imposter_eye','EYE'+str(n), name+'_cropped'+str(n)+'.jpg')              \n",
    "                    croppedImage.save(path, 'JPEG')\n",
    "                    n += 1"
   ]
  },
  {
   "cell_type": "code",
   "execution_count": 7,
   "metadata": {},
   "outputs": [],
   "source": [
    "# Use the boxScale to scale the cropping area. 1 = openCVbox, 2 = 2 x the width and height\n",
    "folders = os.listdir('C:\\\\Users\\\\samin\\\\Desktop\\\\Imposter')\n",
    "# folders is a list of names.\n",
    "# Each name represents a folder that contain images of persons\n",
    "eyeCrop(folders, boxScale=1)\n",
    "#print(folders)"
   ]
  },
  {
   "cell_type": "code",
   "execution_count": null,
   "metadata": {},
   "outputs": [],
   "source": [
    "for folder in folders:\n",
    "        images=os.listdir('C:\\\\Users\\\\samin\\\\Desktop\\\\Biometric Systems\\\\Dataset'+'\\\\'+folder)\n",
    "        print(images)"
   ]
  },
  {
   "cell_type": "code",
   "execution_count": null,
   "metadata": {},
   "outputs": [],
   "source": []
  }
 ],
 "metadata": {
  "kernelspec": {
   "display_name": "Python 3",
   "language": "python",
   "name": "python3"
  },
  "language_info": {
   "codemirror_mode": {
    "name": "ipython",
    "version": 3
   },
   "file_extension": ".py",
   "mimetype": "text/x-python",
   "name": "python",
   "nbconvert_exporter": "python",
   "pygments_lexer": "ipython3",
   "version": "3.7.3"
  }
 },
 "nbformat": 4,
 "nbformat_minor": 1
}
